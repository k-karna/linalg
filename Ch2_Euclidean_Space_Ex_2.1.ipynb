{
 "cells": [
  {
   "cell_type": "markdown",
   "id": "4f82ed19",
   "metadata": {},
   "source": [
    "<h1><center>Chapter 2 : Euclidean Space </center></h1>"
   ]
  },
  {
   "cell_type": "markdown",
   "id": "8d708352",
   "metadata": {},
   "source": [
    "<b>Question 1</b><br>\n",
    "Let $u = \\begin{pmatrix} \n",
    "-1\\\\ \n",
    "3\\\\ \n",
    "\\end{pmatrix}$ \n",
    "and \n",
    "$v = \\begin{pmatrix} \n",
    "2\\\\ \n",
    "1\\\\ \n",
    "\\end{pmatrix}$ be vector in $\\mathbb{R}^2$. Evaluate the following: \n",
    "\n",
    "\n",
    "(a)$u\\cdot v \\quad $(b)$ v \\cdot u \\quad$ (c)$ u \\cdot u\\quad$ (d)$ v \\cdot v\\quad $ (e)$\\lVert u \\rVert^{2}$ <br>\n",
    "(f)$\\lVert v\\rVert^{2}\\quad$ (g)$\\lVert u\\rVert \\quad $(h)$\\lVert v \\rVert\\quad$(i)$\\lVert u + v \\rVert^{2}\\quad $ (j)$d(u, v)\\quad$"
   ]
  },
  {
   "cell_type": "markdown",
   "id": "08c93124",
   "metadata": {},
   "source": [
    "<b>Solution</b><br>\n",
    "(a) -1(2) + 3(1) = 1 <br>\n",
    "(b) since $u \\cdot v = v \\cdot u$. Therefore, $v \\cdot u = 1$ <br>\n",
    "(c) $u \\cdot u = (-1)(-1) + 3(3) = 10$ <br>\n",
    "(d) $v \\cdot v = 2(2) + 1(1) = 5 $<br>\n",
    "(e) $\\lVert u \\rVert^2 = u \\cdot u = 10\\quad$ From (c) <br>\n",
    "(f) $\\lVert v \\rVert^2 = v \\cdot v = 5\\quad$ From (d) <br>\n",
    "(g) $\\lVert u \\rVert = \\sqrt{u \\cdot u} = \\sqrt{10}$<br>\n",
    "(h) $\\lVert v \\rVert = \\sqrt{v \\cdot v} = \\sqrt{5}$<br>\n",
    "(i) $\\lVert u + v \\rVert^2 = (u + v) \\cdot (u + v) = \\begin{pmatrix}\n",
    "1\\\\\n",
    "4\\\\\n",
    "\\end{pmatrix}\\cdot\n",
    "\\begin{pmatrix}\n",
    "1\\\\\n",
    "4\\\\\n",
    "\\end{pmatrix} = 1^2 + 4^2 = 17$ <br>\n",
    "(j) $ d(u, v) = \\lVert u - v \\rVert = \\lVert \\begin{pmatrix}\n",
    "-1\\\\\n",
    "3\\\\\n",
    "\\end{pmatrix} -\n",
    "\\begin{pmatrix}\n",
    "2\\\\\n",
    "1\\\\\n",
    "\\end{pmatrix}\\rVert = \\lVert\\begin{pmatrix}\n",
    "-3\\\\\n",
    "2\\\\\n",
    "\\end{pmatrix}\n",
    "\\rVert\n",
    " = \\sqrt{(-3)^2 + 2^2} = \\sqrt{13}$"
   ]
  },
  {
   "cell_type": "markdown",
   "id": "904e7fab",
   "metadata": {},
   "source": [
    "----------------------------------------------------------------------------"
   ]
  },
  {
   "cell_type": "markdown",
   "id": "877a65d0",
   "metadata": {},
   "source": [
    "<b>Question 2</b><br>\n",
    "Let $u  = \\begin{pmatrix} \n",
    "2&3&-1\\\\ \n",
    "\\end{pmatrix}^T$ \n",
    "and \n",
    "$v = \\begin{pmatrix} \n",
    "5&1&-2\\\\ \n",
    "\\end{pmatrix}^T$ be vectors in $\\mathbb{R}^{3}$. Evaluate: \n",
    "\n",
    "\n",
    "(a)$u\\cdot v \\quad $(b)$ v \\cdot u \\quad$ (c)$ u \\cdot u\\quad$ (d) $ v \\cdot v\\quad $ (e) $\\lVert u \\rVert^{2}$ <br>\n",
    "(f)$\\lVert v\\rVert^{2}\\quad$ (g)$\\lVert u \\rVert\\quad $(h)$\\lVert v \\rVert\\quad$(i)$\\lVert u + v\\rVert^{2}\\quad $ (j)$d(u, v)\\quad$"
   ]
  },
  {
   "cell_type": "markdown",
   "id": "b549a330",
   "metadata": {},
   "source": [
    "<b>Solution</b> <br>\n",
    "Here, \n",
    "$u = \\begin{pmatrix}\n",
    "2\\\\\n",
    "3\\\\\n",
    "-1\\\\\n",
    "\\end{pmatrix}, v = \\begin{pmatrix}\n",
    "5\\\\\n",
    "1\\\\\n",
    "-2\\\\\n",
    "\\end{pmatrix}$ <br>\n",
    "(a) $u \\cdot v = 2(5) + 3(1) + (-1)2 = 15$ <br>\n",
    "(b) $ u \\cdot v = v \\cdot u = 15$ <br>\n",
    "(c) $ u \\cdot u = 2(2) + 3(3) + (-1)(-1) = 14$ <br>\n",
    "(d) $ v \\cdot v = 5(5) + 1(1) + (-2)(-2) = 30$ <br>\n",
    "(e) $ \\lVert u \\rVert^2 = u \\cdot u = 14 \\quad$ From(c) <br>\n",
    "(f) $ \\lVert v \\rVert^2 = v \\cdot v = 30 \\quad$ From(d) <br>\n",
    "(g) $ \\lVert u \\rVert = \\sqrt{u \\cdot u} = \\sqrt{14}$ <br>\n",
    "(h) $ \\lVert v \\rVert = \\sqrt{v \\cdot v} = \\sqrt{30}$ <br> \n",
    "(i) $\\lVert u + v \\rVert^2 = (u + v) \\cdot (u + v) = \\begin{pmatrix}\n",
    "7\\\\\n",
    "4\\\\\n",
    "-3\\\\\n",
    "\\end{pmatrix}\n",
    "\\cdot\n",
    "\\begin{pmatrix}\n",
    "7\\\\\n",
    "4\\\\\n",
    "-3\\\\\n",
    "\\end{pmatrix}\n",
    "= 7(7) + 4(4) + (-3)(-3) = 74$ <br>\n",
    "(j) $d(u, v) = \\lVert u - v \\rVert = \\lVert \\begin{pmatrix}\n",
    "-3\\\\\n",
    "2\\\\\n",
    "1\\\\\n",
    "\\end{pmatrix} \\rVert = \\sqrt{(-3)^2 + 2^2 + 1^2} = \\sqrt{14}$"
   ]
  },
  {
   "cell_type": "markdown",
   "id": "b259eda4",
   "metadata": {},
   "source": [
    "-----------------------------------------------------------------------"
   ]
  },
  {
   "cell_type": "markdown",
   "id": "e8e43908",
   "metadata": {},
   "source": [
    "<b>Question 3</b><br>\n",
    "\n",
    "Let $u  = \\begin{pmatrix}\n",
    "-1&2&5&-3\\\\\n",
    "\\end{pmatrix}^T$ and $v = \\begin{pmatrix}\n",
    "2&-3&-1&5\\\\\n",
    "\\end{pmatrix}^T$ be vectors in $\\mathbb{R}^{3}$. Evaluate:\n",
    "\n",
    "\n",
    "(a)$u\\cdot v \\quad $(b)$ v \\cdot u \\quad$ (c)$ u \\cdot u\\quad$ (d) $ v \\cdot v\\quad $ (e) $\\lVert u \\rVert^{2}$ <br>\n",
    "(f)$\\lVert v \\rVert^{2}\\quad$ (g)$\\lVert u\\rVert\\quad $(h)$\\lVert v \\rVert\\quad$(i)$\\lVert u + v\\rVert^{2}\\quad $ (j)$d(u, v)\\quad$"
   ]
  },
  {
   "cell_type": "markdown",
   "id": "20af8f2b",
   "metadata": {},
   "source": [
    "<b>Solution</b><br>\n",
    "$ u = \\begin{pmatrix}\n",
    "-1\\\\\n",
    "2\\\\\n",
    "5\\\\\n",
    "-3\\\\\n",
    "\\end{pmatrix}, v = \\begin{pmatrix}\n",
    "2\\\\\n",
    "-3\\\\\n",
    "-1\\\\\n",
    "5\\\\\n",
    "\\end{pmatrix}$ <br>\n",
    "(a) $(-1)(2) + 2(-3) + 5(-1) + (-3)(5) = -28$ <br>\n",
    "(b) $ v \\cdot u =  u \\cdot v = -28$ <br>\n",
    "(c) $ u \\cdot u = -1(-1) + 2(2) + 5(5) + (-3)(-3) = 39$ <br>\n",
    "(d) $ v \\cdot v = 2(2) + (-3)(-3) + (-1)(-1) + 5(5) = 39$<br>\n",
    "(e) $\\lVert u \\rVert^2 = u \\cdot u = 39$ From (c)<br>\n",
    "(f) $\\lVert v \\rVert^2 = v \\cdot v = 39$ From (d)<br>\n",
    "(g) $ \\lVert u \\rVert = \\sqrt{u \\cdot u} = \\sqrt{39}$ <br>\n",
    "(h) $ \\lVert v \\rVert = \\sqrt{v \\cdot v} = \\sqrt{39}$ <br> \n",
    "(i) $\\lVert u + v \\rVert^2 = (u + v) \\cdot (u + v) = \\begin{pmatrix}\n",
    "1\\\\\n",
    "-1\\\\\n",
    "4\\\\\n",
    "2\\\\\n",
    "\\end{pmatrix} \\cdot \\begin{pmatrix}\n",
    "1\\\\\n",
    "-1\\\\\n",
    "4\\\\\n",
    "2\\\\\n",
    "\\end{pmatrix}\n",
    "= 1(1) + (-1)(-1) + 4(4) + 2(2) = 22$ <br>\n",
    "(j) $ d(u, v) = \\lVert u - v \\rVert = \\lVert \\begin{pmatrix}\n",
    "-3\\\\\n",
    "5\\\\\n",
    "6\\\\\n",
    "-8\\\\\n",
    "\\end{pmatrix} \\rVert = \\sqrt{(-3)^2 + (5)^2 + (6)^2 + (-8)^2} = \\sqrt{134}$"
   ]
  },
  {
   "cell_type": "markdown",
   "id": "3856752c",
   "metadata": {},
   "source": [
    "---------------------------------------------------------------------------------------------"
   ]
  },
  {
   "cell_type": "markdown",
   "id": "0b242680",
   "metadata": {},
   "source": [
    "4. Let $i  = \\begin{pmatrix}\n",
    "1\\\\\n",
    "0\\\\\n",
    "0\\\\\n",
    "\\end{pmatrix}$, $j = \\begin{pmatrix}\n",
    "0\\\\\n",
    "1\\\\\n",
    "0\\\\\n",
    "\\end{pmatrix}$ and $k = \\begin{pmatrix}\n",
    "0\\\\\n",
    "0\\\\\n",
    "1\\\\\n",
    "\\end{pmatrix}$. Show that<br> \n",
    "(a) $i \\cdot i = 1 \\quad$(b) $j \\cdot j = 1 \\quad$(c) $k \\cdot k = 1 \\quad$(d) $i \\cdot j = 0 \\quad$<br>\n",
    "(e) $i \\cdot k = 0 \\quad$(f) $j \\cdot k = 0 \\quad$<br>\n",
    "If $u = ai + bj + ck$ and $di + ej + fk$ show that $ u \\cdot v = ad +  be + cf$"
   ]
  },
  {
   "cell_type": "markdown",
   "id": "aca7419a",
   "metadata": {},
   "source": [
    "<b>Solution </b><br>(a) $i \\cdot i = \\begin{pmatrix} \n",
    "1\\\\\n",
    "0\\\\\n",
    "0\\\\\n",
    "\\end{pmatrix}\n",
    "\\begin{pmatrix}\n",
    "1\\\\\n",
    "0\\\\\n",
    "0\\\\\n",
    "\\end{pmatrix}\n",
    "= 1 + 0 + 0 = 1\\qquad $(b)$ j \\cdot j = \\begin{pmatrix} \n",
    "0\\\\\n",
    "1\\\\\n",
    "0\\\\\n",
    "\\end{pmatrix}\n",
    "\\begin{pmatrix}\n",
    "0\\\\\n",
    "1\\\\\n",
    "0\\\\\n",
    "\\end{pmatrix}\n",
    "= 0 + 1 + 0 = 1\\qquad$(c)$ k \\cdot k = \\begin{pmatrix} \n",
    "0\\\\\n",
    "0\\\\\n",
    "1\\\\\n",
    "\\end{pmatrix}\n",
    "\\begin{pmatrix}\n",
    "0\\\\\n",
    "0\\\\\n",
    "1\\\\\n",
    "\\end{pmatrix}\n",
    "= 0 + 0 + 1 = 1\\qquad$ <br>\n",
    "(d) $i \\cdot j = \\begin{pmatrix} \n",
    "1\\\\\n",
    "0\\\\\n",
    "0\\\\\n",
    "\\end{pmatrix}\n",
    "\\begin{pmatrix}\n",
    "0\\\\\n",
    "1\\\\\n",
    "0\\\\\n",
    "\\end{pmatrix}\n",
    "= 0 + 0 + 0 = 0\\qquad$ (e) $i \\cdot k = \\begin{pmatrix} \n",
    "1\\\\\n",
    "0\\\\\n",
    "0\\\\\n",
    "\\end{pmatrix}\n",
    "\\begin{pmatrix}\n",
    "0\\\\\n",
    "0\\\\\n",
    "1\\\\\n",
    "\\end{pmatrix}\n",
    "= 0 + 0 + 0 = 0\\qquad$ (f) $j \\cdot k = \\begin{pmatrix} \n",
    "0\\\\\n",
    "1\\\\\n",
    "0\\\\\n",
    "\\end{pmatrix}\n",
    "\\begin{pmatrix}\n",
    "0\\\\\n",
    "0\\\\\n",
    "1\\\\\n",
    "\\end{pmatrix}\n",
    "= 0 + 0 + 0 = 0\\qquad$ <br>\n",
    "\n",
    "$u = ai + bj + ck = a\\begin{pmatrix}\n",
    "1\\\\\n",
    "0\\\\\n",
    "0\\\\\n",
    "\\end{pmatrix} + b\\begin{pmatrix}\n",
    "0\\\\\n",
    "1\\\\\n",
    "0\\\\\n",
    "\\end{pmatrix} + c\\begin{pmatrix}\n",
    "0\\\\\n",
    "0\\\\\n",
    "1\\\\\n",
    "\\end{pmatrix}\\qquad = \\begin{pmatrix}\n",
    "a\\\\\n",
    "0\\\\\n",
    "0\\\\\n",
    "\\end{pmatrix} + \\begin{pmatrix}\n",
    "0\\\\\n",
    "b\\\\\n",
    "0\\\\\n",
    "\\end{pmatrix} + \\begin{pmatrix}\n",
    "0\\\\\n",
    "0\\\\\n",
    "c\\\\\n",
    "\\end{pmatrix}\\qquad = \\begin{pmatrix}\n",
    "a\\\\\n",
    "b\\\\\n",
    "c\\\\\n",
    "\\end{pmatrix}$ <br>\n",
    "$v = di + ej + fk = d\\begin{pmatrix}\n",
    "1\\\\\n",
    "0\\\\\n",
    "0\\\\\n",
    "\\end{pmatrix} + e\\begin{pmatrix}\n",
    "0\\\\\n",
    "1\\\\\n",
    "0\\\\\n",
    "\\end{pmatrix} + f\\begin{pmatrix}\n",
    "0\\\\\n",
    "0\\\\\n",
    "1\\\\\n",
    "\\end{pmatrix}\\qquad = \\begin{pmatrix}\n",
    "d\\\\\n",
    "0\\\\\n",
    "0\\\\\n",
    "\\end{pmatrix} + \\begin{pmatrix}\n",
    "0\\\\\n",
    "e\\\\\n",
    "0\\\\\n",
    "\\end{pmatrix} + \\begin{pmatrix}\n",
    "0\\\\\n",
    "0\\\\\n",
    "f\\\\\n",
    "\\end{pmatrix}\\qquad = \\begin{pmatrix}\n",
    "d\\\\\n",
    "e\\\\\n",
    "f\\\\\n",
    "\\end{pmatrix}$ <br>\n",
    "Then, <br>\n",
    "$u \\cdot v = \\begin{pmatrix}\n",
    "a\\\\\n",
    "b\\\\\n",
    "c\\\\\n",
    "\\end{pmatrix} \\cdot \\begin{pmatrix}\n",
    "d\\\\\n",
    "e\\\\\n",
    "f\\\\\n",
    "\\end{pmatrix} = ad + be + cf$ <b>Hence, proved!</b>"
   ]
  },
  {
   "cell_type": "markdown",
   "id": "a4cb967f",
   "metadata": {},
   "source": [
    "------------------------------------------------------------------------------------------------------"
   ]
  },
  {
   "cell_type": "markdown",
   "id": "fbf96888",
   "metadata": {},
   "source": [
    "5.Let $u = \\begin{pmatrix}\n",
    "-3\\\\\n",
    "2\\\\\n",
    "\\end{pmatrix}$ and $v = \\begin{pmatrix} \n",
    "-2\\\\\n",
    "-3\\\\\n",
    "\\end{pmatrix}$ be vector in $\\mathbb{R}^2$. Plot these vectors in $\\mathbb{R}^2$ and show that the vectors are orthogonal. Hence solve the equation $-3x + 2y = 0$"
   ]
  },
  {
   "cell_type": "markdown",
   "id": "3aa8191e",
   "metadata": {},
   "source": [
    "<b>Solution</b><br>\n",
    "For orthogonal, $u \\cdot v = 0$ <br>\n",
    "Here, $u \\cdot v = (-3)(-2) + 2(-3) = 6-6 = 0$\n",
    "Therefore, $u$ and $v$ are orthogonal or perpendicular, so infinite choices for $x$ and $y$ in the equation $-3x + 2y = 0$ Generally, $x = 2s$ and $y = 3s$ where, $s \\in \\mathbb{R}$"
   ]
  },
  {
   "cell_type": "markdown",
   "id": "d9f42358",
   "metadata": {},
   "source": [
    "---------------------------------------------------------------------------------------"
   ]
  },
  {
   "cell_type": "markdown",
   "id": "00af1843",
   "metadata": {},
   "source": [
    "6. Let $u = \\begin{pmatrix}\n",
    "7\\\\\n",
    "-2\\\\\n",
    "\\end{pmatrix}$ and $v = \\begin{pmatrix} \n",
    "-5\\\\\n",
    "3\\\\\n",
    "\\end{pmatrix}$. Determine the following norms and plot your results on the same axes:\n",
    "\n",
    "(a)$|| u + v || \\quad$ (b) $d(u,v) = || u - v ||$"
   ]
  },
  {
   "cell_type": "markdown",
   "id": "4b19e57d",
   "metadata": {},
   "source": [
    "<b>Solution</b> <br>\n",
    "(a) $\\Vert u + v \\rVert = \\lVert \\begin{pmatrix}\n",
    "2\\\\\n",
    "1\\\\\n",
    "\\end{pmatrix} \\rVert = \\sqrt{2^2 + 1^2} = \\sqrt5$ <br>\n",
    "(b) $d(u, v) = \\lVert u - v \\rVert = \\lVert \\begin{pmatrix}7 - (-5)\\\\\n",
    "-2-3\\\\\n",
    "\\end{pmatrix}\\rVert = \\sqrt{12^2 + (-5)^2} = \\sqrt{169} = 13$"
   ]
  },
  {
   "cell_type": "markdown",
   "id": "7a38aa24",
   "metadata": {},
   "source": [
    "---------------------------------------------------------"
   ]
  },
  {
   "cell_type": "markdown",
   "id": "011fc02a",
   "metadata": {},
   "source": [
    "7. Prove properties (ii), (v) and (vii) of proposition 2.1"
   ]
  },
  {
   "cell_type": "markdown",
   "id": "4a4758f3",
   "metadata": {},
   "source": [
    "<b>Solution</b> <br> \n",
    "(ii) states $(u + v) + w = u + (v + w)$ <br>\n",
    "(v) states $k(u + v) = ku + kv$<br>\n",
    "(vii) states $(kc)\\cdot u = k \\cdot (cu)$"
   ]
  },
  {
   "cell_type": "markdown",
   "id": "725e8af0",
   "metadata": {},
   "source": [
    "--------------------------------------"
   ]
  },
  {
   "cell_type": "markdown",
   "id": "7175ee6c",
   "metadata": {},
   "source": [
    "8. Prove property of (i) of Proposition 2.6"
   ]
  },
  {
   "cell_type": "markdown",
   "id": "abb84dfb",
   "metadata": {},
   "source": [
    "<b>Solution</b><br> \n",
    "(i) states $(u + v)\\cdot = u\\cdot w + v\\cdot w$"
   ]
  },
  {
   "cell_type": "markdown",
   "id": "3f1cd361",
   "metadata": {},
   "source": [
    "----------------------------------------------------------------------------"
   ]
  },
  {
   "cell_type": "markdown",
   "id": "d833c09a",
   "metadata": {},
   "source": [
    "9. Determine $\\frac{1}{|| u ||}u$ for the following vectors in $\\mathbb{R}^n$:\n",
    "\n",
    "(a)$ u = \\begin{pmatrix}\n",
    "2&-7\\\\\n",
    "\\end{pmatrix}^T\\quad$ (b) $ u = \\begin{pmatrix}\n",
    "-9&3&7\\\\\n",
    "\\end{pmatrix}^T\\quad$ (c) $u = \\begin{pmatrix}\n",
    "-3&5&8&6\\\\\n",
    "\\end{pmatrix}^T\\quad$ (d)$u = \\begin{pmatrix}\n",
    "-6&2&8&3&5\\\\\n",
    "\\end{pmatrix}^T\\quad$\n",
    "\n",
    "Determine $||\\frac{1}{||u||}u||$ in each case."
   ]
  },
  {
   "cell_type": "markdown",
   "id": "d2aea2b9",
   "metadata": {},
   "source": [
    "<b>Solution</b> <br>\n",
    "<b>(a)</b><br>$\\lVert u \\rVert = \\lVert \\begin{pmatrix}\n",
    "2\\\\\n",
    "-7\\\\\n",
    "\\end{pmatrix}\\rVert = \\sqrt{2^2 + (-7)^2} = \\sqrt{53}$ <br>\n",
    "So, $\\frac{1}{|| u ||}u = \\frac{1}{\\sqrt{53}} \\begin{pmatrix}\n",
    "2\\\\\n",
    "-7\\\\\n",
    "\\end{pmatrix}$\n",
    "\n",
    "Also, as $\\lVert u \\rVert^2 = u \\cdot u $. <br>\n",
    "Here, $\\lVert  \\frac{1}{|| u ||}u \\rVert^2 = \\frac{1}{\\sqrt{53}}\\begin{pmatrix}\n",
    "2\\\\\n",
    "-7\\\\\n",
    "\\end{pmatrix} \\cdot \\frac{1}{\\sqrt{53}}\\begin{pmatrix}\n",
    "2\\\\\n",
    "-7\\\\\n",
    "\\end{pmatrix}$ <br>\n",
    "$\\qquad \\qquad \\quad = \\frac{1}{53} \\cdot (2^2 + (-7)^2)$ <br>\n",
    "$\\qquad \\qquad \\quad = 1$\n",
    "\n",
    "Hence, $\\lVert  \\frac{1}{|| u ||}u \\rVert = \\sqrt1 = 1$\n",
    "\n",
    "<b>(b)</b><br>\n",
    "$\\lVert u \\rVert = \\lVert \\begin{pmatrix}\n",
    "-9\\\\\n",
    "3\\\\\n",
    "7\\\\\n",
    "\\end{pmatrix}\\rVert = \\sqrt{(-9)^2 + (3)^2 + (7)^2} = \\sqrt{139}$ <br>\n",
    "So, $\\frac{1}{|| u ||}u = \\frac{1}{\\sqrt{139}} \\begin{pmatrix}\n",
    "-9\\\\\n",
    "3\\\\\n",
    "7\\\\\n",
    "\\end{pmatrix}$\n",
    "\n",
    "Also, as $\\lVert u \\rVert^2 = u \\cdot u $. <br>\n",
    "Here, $\\lVert  \\frac{1}{|| u ||}u \\rVert^2 = \\frac{1}{\\sqrt{139}}\\begin{pmatrix}\n",
    "-9\\\\\n",
    "3\\\\\n",
    "7\\\\\n",
    "\\end{pmatrix} \\cdot \\frac{1}{\\sqrt{139}}\\begin{pmatrix}\n",
    "-9\\\\\n",
    "3\\\\\n",
    "7\\\\\n",
    "\\end{pmatrix}$ <br>\n",
    "$\\qquad \\qquad \\quad = \\frac{1}{139} \\cdot (2^2 + (-7)^2)$ <br>\n",
    "$\\qquad \\qquad \\quad = 1$\n",
    "\n",
    "Hence, $\\lVert  \\frac{1}{|| u ||}u \\rVert = \\sqrt1 = 1$\n",
    "\n",
    "<b>(c)</b> <br>$\\lVert u \\rVert = \\lVert \\begin{pmatrix}\n",
    "-3\\\\\n",
    "5\\\\\n",
    "8\\\\\n",
    "6\\\\\n",
    "\\end{pmatrix}\\rVert = \\sqrt{(-3)^2 + 5^2 + (8)^2 + 6^2} = \\sqrt{134}$ <br>\n",
    "So, $\\frac{1}{|| u ||}u = \\frac{1}{\\sqrt{134}} \\begin{pmatrix}\n",
    "-3\\\\\n",
    "5\\\\\n",
    "8\\\\\n",
    "6\\\\\n",
    "\\end{pmatrix}$\n",
    "\n",
    "Also, as $\\lVert u \\rVert^2 = u \\cdot u $. <br>\n",
    "Here, $\\lVert  \\frac{1}{|| u ||}u \\rVert^2 = \\frac{1}{\\sqrt{134}}\\begin{pmatrix}\n",
    "-3\\\\\n",
    "5\\\\\n",
    "8\\\\\n",
    "6\\\\\n",
    "\\end{pmatrix} \\cdot \\frac{1}{\\sqrt{134}}\\begin{pmatrix}\n",
    "-3\\\\\n",
    "5\\\\\n",
    "8\\\\\n",
    "6\\\\\n",
    "\\end{pmatrix}$ <br>\n",
    "$\\qquad \\qquad \\quad = \\frac{1}{134} \\cdot ((-3)^2 + 5^2 + 8^2 + 6^2)$ <br>\n",
    "$\\qquad \\qquad \\quad = 1$\n",
    "\n",
    "Hence, $\\lVert  \\frac{1}{|| u ||}u \\rVert = \\sqrt1 = 1$\n",
    "\n",
    "\n",
    "<b>(d)</b> <br>$\\lVert u \\rVert = \\lVert \\begin{pmatrix}\n",
    "-6\\\\\n",
    "2\\\\\n",
    "8\\\\\n",
    "3\\\\\n",
    "5\\\\\n",
    "\\end{pmatrix}\\rVert = \\sqrt{(-6)^2 + 2^2 + (8)^2 + 3^2 + 5^2} = \\sqrt{138}$ <br>\n",
    "So, $\\frac{1}{|| u ||}u = \\frac{1}{\\sqrt{138}} \\begin{pmatrix}\n",
    "-6\\\\\n",
    "2\\\\\n",
    "8\\\\\n",
    "3\\\\\n",
    "5\\\\\n",
    "\\end{pmatrix}$\n",
    "\n",
    "Also, as $\\lVert u \\rVert^2 = u \\cdot u $. <br>\n",
    "Here, $\\lVert  \\frac{1}{|| u ||}u \\rVert^2 = \\frac{1}{\\sqrt{138}}\\begin{pmatrix}\n",
    "-6\\\\\n",
    "2\\\\\n",
    "8\\\\\n",
    "3\\\\\n",
    "5\\\\\n",
    "\\end{pmatrix} \\cdot \\frac{1}{\\sqrt{138}}\\begin{pmatrix}\n",
    "-6\\\\\n",
    "2\\\\\n",
    "8\\\\\n",
    "3\\\\\n",
    "5\\\\\n",
    "\\end{pmatrix}$ <br>\n",
    "$\\qquad \\qquad \\quad = \\frac{1}{138} \\cdot ((-6)^2 + 2^2 + 8^2 + 3^2 + 5^2)$ <br>\n",
    "$\\qquad \\qquad \\quad = 1$\n",
    "\n",
    "Hence, $\\lVert  \\frac{1}{|| u ||}u \\rVert = \\sqrt1 = 1$"
   ]
  },
  {
   "cell_type": "markdown",
   "id": "18b2686d",
   "metadata": {},
   "source": [
    "-----------------------------------------------------------------------------"
   ]
  },
  {
   "cell_type": "markdown",
   "id": "28335aa8",
   "metadata": {},
   "source": [
    "10. Show that, for any non-zero vector $u$ in $\\mathbb{R}^n$, we have  $||\\frac{1}{||u||}u|| = 1$"
   ]
  },
  {
   "cell_type": "markdown",
   "id": "a6a4012f",
   "metadata": {},
   "source": [
    "<b>Solution</b><br> \n",
    "If we have $u = \\begin{pmatrix}\n",
    "2\\\\\n",
    "-7\\\\\n",
    "\\end{pmatrix}$\n",
    "\n",
    "Then, <br>\n",
    "$\\lVert u \\rVert = \\lVert \\begin{pmatrix}\n",
    "2\\\\\n",
    "-7\\\\\n",
    "\\end{pmatrix}\\rVert = \\sqrt{2^2 + (-7)^2} = \\sqrt{53}$ <br>\n",
    "So, $\\frac{1}{|| u ||}u = \\frac{1}{\\sqrt{53}} \\begin{pmatrix}\n",
    "2\\\\\n",
    "-7\\\\\n",
    "\\end{pmatrix}$\n",
    "\n",
    "Also, as $\\lVert u \\rVert^2 = u \\cdot u $. <br>\n",
    "Here, $\\lVert  \\frac{1}{|| u ||}u \\rVert^2 = \\frac{1}{\\sqrt{53}}\\begin{pmatrix}\n",
    "2\\\\\n",
    "-7\\\\\n",
    "\\end{pmatrix} \\cdot \\frac{1}{\\sqrt{53}}\\begin{pmatrix}\n",
    "2\\\\\n",
    "-7\\\\\n",
    "\\end{pmatrix}$ <br>\n",
    "$\\qquad \\qquad \\quad = \\frac{1}{53} \\cdot (2^2 + (-7)^2)$ <br>\n",
    "$\\qquad \\qquad \\quad = 1$\n",
    "\n",
    "Hence, $\\lVert  \\frac{1}{|| u ||}u \\rVert = \\sqrt1 = 1$"
   ]
  },
  {
   "cell_type": "markdown",
   "id": "a4b8b0a0",
   "metadata": {},
   "source": [
    "----------------------------------------------------------------------------"
   ]
  },
  {
   "cell_type": "markdown",
   "id": "c6f15c37",
   "metadata": {},
   "source": [
    "11. Let $u$ and $v$ be vectors in $\\mathbb{R}^n$. <i>Disprove</i> the following propositions:\n",
    "\n",
    "(a) If $u \\cdot v = 0$ then $u = 0$ or $v = 0$ <br>\n",
    "(b) $|| u + v|| = ||u|| + ||v||$"
   ]
  },
  {
   "cell_type": "markdown",
   "id": "34b45c9e",
   "metadata": {},
   "source": [
    "<b>Solution</b><br>\n",
    "<b>(a)</b> If $u = \\begin{pmatrix}\n",
    "-3\\\\\n",
    "2\\\\\n",
    "\\end{pmatrix}$ and $v = \\begin{pmatrix}\n",
    "-2\\\\\n",
    "-3\\\\\n",
    "\\end{pmatrix}$ Then, \n",
    "$u \\cdot v = \\begin{pmatrix}\n",
    "-3\\\\\n",
    "2\\\\\n",
    "\\end{pmatrix} \\cdot  \\begin{pmatrix}\n",
    "-2\\\\\n",
    "-3\\\\\n",
    "\\end{pmatrix}$<br>\n",
    "Then, $ u \\cdot v = (-3)(-2) + 2(-3) = 6 -6 = 0 $. Hence, disproved!\n",
    "\n",
    "<b>(b)</b> Let $u = \\begin{pmatrix}\n",
    "1\\\\\n",
    "2\\\\\n",
    "1\\\\\n",
    "\\end{pmatrix}$ and $v = \\begin{pmatrix}\n",
    "2\\\\\n",
    "1\\\\\n",
    "3\\\\\n",
    "\\end{pmatrix}$ \n",
    "\n",
    "Then, $\\lVert u + v \\rVert = \\lVert \\begin{pmatrix}\n",
    "3\\\\\n",
    "3\\\\\n",
    "4\\\\\n",
    "\\end{pmatrix}\\rVert = \\sqrt{3^2 + 3^2 + 3^4} = \\sqrt{34}$\n",
    "\n",
    "Here, $\\lVert u \\rVert = \\sqrt{1^2 +2^2 + 1^2} = \\sqrt6$ <br>\n",
    "and $\\lVert u \\rVert = \\sqrt{2^2 + 1^2 + 3^2} = \\sqrt{14}$ \n",
    "\n",
    "$\\sqrt{34} \\ne \\sqrt6 + \\sqrt{14}$. Hence, disproved!"
   ]
  },
  {
   "cell_type": "markdown",
   "id": "b055dd4d",
   "metadata": {},
   "source": [
    "--------------------------------------------------------------"
   ]
  },
  {
   "cell_type": "markdown",
   "id": "b4846a64",
   "metadata": {},
   "source": [
    "12. Let $u_1, u_2, u_3, ..., u_n$ be orthogonal vectors in $\\mathbb{R}^n$. Prove\n",
    "\n",
    "(i) $|| u_1 + u_2||^2 = ||u_1||^2 + ||u_2||^2$<br>\n",
    "(ii) $|| u_1 + u_2 + ... + u_n||^2 = ||u_1||^2 + ||u_2||^2 + ... + ||u_n||^2$"
   ]
  },
  {
   "cell_type": "markdown",
   "id": "2a2d7e86",
   "metadata": {},
   "source": [
    "<b>Solution</b> <br> \n",
    "(i) $\\lVert u_1 + u_2 \\rVert^2 = (u_1 + u_2) \\cdot (u_1 + u_2)$ \n",
    "\n",
    "$\\qquad \\qquad \\quad = (u_1 + u_2) \\cdot u_1 + (u_1 + u_2) \\cdot u_2$ <br>\n",
    "$\\qquad \\qquad \\quad = u_1 \\cdot u_1 + u_2 \\cdot u_1 + u_1 \\cdot u_2 + u_2 \\cdot u_2$ <br>\n",
    "$\\qquad \\qquad \\quad = \\lVert u_1 \\rVert^2 + u_2 \\cdot u_1 + u_1 \\cdot u_2 + \\lVert u_2 \\rVert^2 $<br>\n",
    "$\\qquad \\qquad \\quad = \\lVert u_1 \\rVert^2 + \\lVert u_2 \\rVert^2$ <br>\n",
    "Hence, proved"
   ]
  },
  {
   "cell_type": "markdown",
   "id": "d203d6a0",
   "metadata": {},
   "source": [
    "-------------------------------------------------------------------------------------------"
   ]
  },
  {
   "cell_type": "markdown",
   "id": "6a6c05ee",
   "metadata": {},
   "source": [
    "13. Let $u$ and $v$ be vectors in $\\mathbb{R}^n$. Prove that\n",
    "\n",
    "\n",
    "(a)$||u + v||^2 + ||u - v||^2 = 2||u||^2 + 2||v||^2$\n",
    "\n",
    "(b)$||u + v||^2 - ||u - v||^2 = 4(u \\cdot v)$"
   ]
  },
  {
   "cell_type": "markdown",
   "id": "05cef79d",
   "metadata": {},
   "source": [
    "<b>Solution</b> <br>\n",
    "<b>(a)</b><br> $\\Vert u + v \\rVert^2 = $ <br>\n",
    "$\\qquad = (u + v) \\cdot (u + v)$ <br>\n",
    "$\\qquad = (u + v) \\cdot u + (u + v) \\cdot v $ <br>\n",
    "$\\qquad = u\\cdot u + u \\cdot v + u \\cdot v + v \\cdot v$ <br> \n",
    "$\\qquad = \\lVert u \\rVert^2 + 2 u \\cdot v + \\lVert v\\rVert^2$ <br>\n",
    "\n",
    "Similarly, $\\Vert u - v \\rVert^2 = $ <br>\n",
    "$\\qquad = (u - v) \\cdot (u - v)$ <br>\n",
    "$\\qquad = (u - v) \\cdot u + (u - v) \\cdot (-v) $ <br>\n",
    "$\\qquad = u\\cdot u - v \\cdot u + u \\cdot (-v) - v \\cdot (-v)$ <br> \n",
    "$\\qquad = \\lVert u \\rVert^2 - 2 u \\cdot v + \\lVert v\\rVert^2$ <br>\n",
    "\n",
    "Therefore, $\\Vert u + v \\rVert^2 + \\Vert u - v \\rVert^2 = \\lVert u \\rVert^2 + 2 u \\cdot v + \\lVert v\\rVert^2 + \\lVert u \\rVert^2 - 2 u \\cdot v + \\lVert v\\rVert^2$ \n",
    "\n",
    "$\\Rightarrow \\lVert u + v\\rVert^2 + \\Vert u - v\\rVert^2 = 2\\Vert u\\rVert^2 + 2\\lVert v\\rVert^2$\n",
    "\n",
    "<b>(b)</b> <br>\n",
    "Taking $\\lVert u + v\\rVert^2$ and  $\\Vert u - v\\rVert^2$ from above, we have: \n",
    "\n",
    "$\\Vert u + v \\rVert^2 - \\Vert u - v \\rVert^2 = \\lVert u \\rVert^2 + 2 u \\cdot v + \\lVert v\\rVert^2 - (\\lVert u \\rVert^2 - 2 u \\cdot v + \\lVert v\\rVert^2)$\n",
    "\n",
    "\n",
    "$\\qquad \\qquad \\qquad \\qquad =  \\lVert u \\rVert^2 + 2 u \\cdot v + \\lVert v\\rVert^2 - \\lVert u \\rVert^2 + 2 u \\cdot v - \\lVert v\\rVert^2)$\n",
    "\n",
    "\n",
    "$\\Rightarrow$ Therefore, $\\Vert u + v \\rVert^2 - \\Vert u - v \\rVert^2 = 4( u \\cdot v)$"
   ]
  },
  {
   "cell_type": "markdown",
   "id": "a4743a8b",
   "metadata": {},
   "source": [
    "-------------------------------------------------------------------------------------------"
   ]
  },
  {
   "cell_type": "markdown",
   "id": "962e7767",
   "metadata": {},
   "source": [
    "14. This question is on the properties of the distance function $d(u,v)$ where $u$ and $v$ are vectors in n-space.\n",
    "\n",
    "(i) Show that $d(u,v) = \\sqrt{(u_1 - v_1)^2 + (u_2 - v_2)^2 + ... + (u_n - v_n)^2}$<br>\n",
    "(ii) Prove that $d(u,v) = d(v,u)$ <br>\n",
    "(iii) Prove that $d(u,v) \\ge 0$ and $d(u,v) = 0 \\iff u = v$"
   ]
  },
  {
   "cell_type": "markdown",
   "id": "074d567e",
   "metadata": {},
   "source": [
    "<b>Solution</b> <br>"
   ]
  },
  {
   "cell_type": "markdown",
   "id": "a0005bd6",
   "metadata": {},
   "source": [
    "(i) We know that, <br>\n",
    "$\\qquad d(u, v) = \\lVert u - v \\rVert = \\sqrt{(u - v) \\cdot (u - v)}$"
   ]
  },
  {
   "cell_type": "markdown",
   "id": "0242d777",
   "metadata": {},
   "source": [
    "If $u$ and $v$ goes upto $n-$term, we have \n",
    "\n",
    "$ u - v = \\begin{pmatrix}\n",
    "u_1 - v_1\\\\\n",
    "u_2 - v_2\\\\\n",
    "\\vdots - \\vdots\\\\\n",
    "u_n - v_n\\\\\n",
    "\\end{pmatrix}$"
   ]
  },
  {
   "cell_type": "markdown",
   "id": "2c28d682",
   "metadata": {},
   "source": [
    "Then, <br>\n",
    "$d(u, v) = \\lVert u - v \\rVert = \\sqrt{\\begin{pmatrix}\n",
    "u_1 - v_1\\\\\n",
    "u_2 - v_2\\\\\n",
    "\\vdots - \\vdots\\\\\n",
    "u_n - v_n\\\\\n",
    "\\end{pmatrix}\\cdot \\begin{pmatrix}\n",
    "u_1 - v_1\\\\\n",
    "u_2 - v_2\\\\\n",
    "\\vdots - \\vdots\\\\\n",
    "u_n - v_n\\\\\n",
    "\\end{pmatrix}}$"
   ]
  },
  {
   "cell_type": "markdown",
   "id": "90c05f52",
   "metadata": {},
   "source": [
    "$ d(u, v) = \\sqrt{(u_1 - v_1)^2 + (u_2 + v_2)^2 + \\dots + (u_n - v_n)^2}$\n",
    "\n",
    "Hence, proved"
   ]
  },
  {
   "cell_type": "markdown",
   "id": "ca593cd2",
   "metadata": {},
   "source": [
    "(ii) $ d(u, v) = \\sqrt{(u_1 - v_1)^2 + (u_2 + v_2)^2 + \\dots + (u_n - v_n)^2}$\n",
    "\n",
    "\n",
    "$\\qquad= \\sqrt{(v_1 - u_1)^2 + (v_2 + u_2)^2 + \\dots + (v_n - u_n)^2} \\quad$ (fippling inside bracket that gets squared do not make difference) \n",
    "\n",
    "$\\qquad=d(v,u)$"
   ]
  },
  {
   "cell_type": "code",
   "execution_count": null,
   "id": "6e92bbf2",
   "metadata": {},
   "outputs": [],
   "source": []
  }
 ],
 "metadata": {
  "kernelspec": {
   "display_name": "Python 3 (ipykernel)",
   "language": "python",
   "name": "python3"
  },
  "language_info": {
   "codemirror_mode": {
    "name": "ipython",
    "version": 3
   },
   "file_extension": ".py",
   "mimetype": "text/x-python",
   "name": "python",
   "nbconvert_exporter": "python",
   "pygments_lexer": "ipython3",
   "version": "3.9.9"
  }
 },
 "nbformat": 4,
 "nbformat_minor": 5
}
