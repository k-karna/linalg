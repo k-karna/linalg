{
 "cells": [
  {
   "cell_type": "markdown",
   "id": "1e3a32c3",
   "metadata": {},
   "source": [
    "<b>Question 1</b>\n",
    "\n",
    "\n",
    "Compute the determinants of the following matrices.\n",
    "\n",
    "(a)$A = \\begin{pmatrix}\n",
    "7&9\\\\\n",
    "5&7\\\\\n",
    "\\end{pmatrix}\\quad$(b)$\\begin{pmatrix}\n",
    "9&2\\\\\n",
    "13&3\\\\\n",
    "\\end{pmatrix}\\quad$(c)$\\begin{pmatrix}\n",
    "17&7\\\\\n",
    "12&5\\\\\n",
    "\\end{pmatrix}\\quad$(d)$\\begin{pmatrix}\n",
    "7&1\\\\\n",
    "14&2\\\\\n",
    "\\end{pmatrix}$"
   ]
  },
  {
   "cell_type": "markdown",
   "id": "6ddcdcae",
   "metadata": {},
   "source": [
    "<b>Solution</b><br>\n",
    "\n",
    "we know that, $Det(A) = ad - bc$\n",
    "\n",
    "(a) $Det(A) = 7(7) - 9(5) = 49 -45 = 4$\n",
    "\n",
    "(b) $Det(A) = 9(3) - 13(2) = 27 - 26 = 1$\n",
    "\n",
    "(c) $Det(A) = 17(5) - 12(7) = 85 - 84 = 1$\n",
    "\n",
    "(e) $Det(A) = 7(2) - 14(1) = 14 - 14 = 0$"
   ]
  },
  {
   "cell_type": "markdown",
   "id": "7c46cc30",
   "metadata": {},
   "source": [
    "-------------------------------------------------------------------------------"
   ]
  },
  {
   "cell_type": "markdown",
   "id": "f71807ea",
   "metadata": {},
   "source": [
    "<b>Question 2</b>\n",
    "\n",
    "Compute $det(A)$ and $det(B)$ for the following.\n",
    "\n",
    "(a)$A = \\begin{pmatrix}\n",
    "1&3\\\\\n",
    "5&7\\\\\n",
    "\\end{pmatrix}$ and $B =\\begin{pmatrix}\n",
    "1&5\\\\\n",
    "3&7\\\\\n",
    "\\end{pmatrix}\\quad$(b)$A = \\begin{pmatrix}\n",
    "-1&2\\\\\n",
    "5&3\\\\\n",
    "\\end{pmatrix}\\quad$ and $B = \\begin{pmatrix}\n",
    "-1&5\\\\\n",
    "2&3\\\\\n",
    "\\end{pmatrix}$ \n",
    "\n",
    "(c)$A = \\begin{pmatrix}\n",
    "cos(-\\pi)&cos(\\pi)\\\\\n",
    "sin(-\\pi)&sin(\\pi)\\\\\n",
    "\\end{pmatrix}\\quad$ and $B = \\begin{pmatrix}\n",
    "cos(-\\pi)&sin(-\\pi)\\\\\n",
    "cos(\\pi)&sin(\\pi)\\\\\n",
    "\\end{pmatrix}$\n",
    "\n",
    "What do you notice about matrices $A$ and $B$ and your results for $det(A)$ and $det(B)$"
   ]
  },
  {
   "cell_type": "markdown",
   "id": "688537d0",
   "metadata": {},
   "source": [
    "<b> Solution</b>\n",
    "\n",
    "<b>(a)</b>\n",
    "\n",
    "$Det(A) = 1(7) - 5(3) = 7 - 15 = -8$<br>\n",
    "$Det(B) = 1(7) - 3(5) = 7 - 15 = -8$\n",
    "\n",
    "<b>(b)</b>\n",
    "\n",
    "$Det(A) = -1(3) - 5(2) = -3 -10 = -13$<br>\n",
    "$Det(B) = -1(3) - 2(5) = -3 -10 = -13$\n",
    "\n",
    "<b>(c)</b>\n",
    "\n",
    "$Det(A) = cos(\\pi)(sin(\\pi) + cos(\\pi)(sin(-\\pi) = 0(-1) - 0(-1) = 0$<br>\n",
    "$Det(B) = cos(-\\pi)sin(\\pi) + cos(\\pi)(sin(-\\pi) = -1(0) - (-1)0 = 0$"
   ]
  },
  {
   "cell_type": "markdown",
   "id": "725added",
   "metadata": {},
   "source": [
    "-------------------------------------------------------------------------------"
   ]
  },
  {
   "cell_type": "markdown",
   "id": "7225039b",
   "metadata": {},
   "source": [
    "<b>Question 3</b>\n",
    "\n",
    "For $A = \\begin{pmatrix}\n",
    "a&b\\\\\n",
    "c&d\\\\\n",
    "\\end{pmatrix}$. Show that $det(A) = det(A^T)$"
   ]
  },
  {
   "cell_type": "markdown",
   "id": "8789aea8",
   "metadata": {},
   "source": [
    "<b>Solution</b> \n",
    "\n",
    "$det(A) = ad - bc$\n",
    "\n",
    "Here, $A^T = \\begin{pmatrix}\n",
    "a&c\\\\\n",
    "b&d\\\\\n",
    "\\end{pmatrix}$\n",
    "$ = ad - bc$\n",
    "\n",
    "$Hence, det(A) = det(A^T)$"
   ]
  },
  {
   "cell_type": "markdown",
   "id": "89b47243",
   "metadata": {},
   "source": [
    "-------------------------------------------------------------------------------"
   ]
  },
  {
   "cell_type": "markdown",
   "id": "947c7c2a",
   "metadata": {},
   "source": [
    "<b>Question 4</b>\n",
    "\n",
    "Let $A = \\begin{pmatrix}\n",
    "2&1\\\\\n",
    "0&3\\\\\n",
    "\\end{pmatrix}$. Show that $det(A)$ is the area of the parallelogram which connects the column vectors, $\\begin{pmatrix}\n",
    "2\\\\\n",
    "0\\\\\n",
    "\\end{pmatrix}$ and $\\begin{pmatrix}\n",
    "1\\\\\n",
    "3\\\\\n",
    "\\end{pmatrix}$, of matrix $A$. <br>\n",
    "What is the det$\\begin{pmatrix}\n",
    "1&2\\\\\n",
    "3&0\\\\\n",
    "\\end{pmatrix}$ equal to?"
   ]
  },
  {
   "cell_type": "markdown",
   "id": "eb78136a",
   "metadata": {},
   "source": [
    "<b>Solution</b> \n",
    "\n",
    "det$\\begin{pmatrix}\n",
    "1&2\\\\\n",
    "3&0\\\\\n",
    "\\end{pmatrix} = 1(0) - 3(2) = -6$"
   ]
  },
  {
   "cell_type": "markdown",
   "id": "f4bde140",
   "metadata": {},
   "source": [
    "-------------------------------------------------------------------------------"
   ]
  },
  {
   "cell_type": "markdown",
   "id": "fc07c82b",
   "metadata": {},
   "source": [
    "<b>Question 5</b>\n",
    "\n",
    "By using determinants decide whether the following linear system has a unique solution? If so find it. \n",
    "$$ 2x + 3y = -2$$\n",
    "$$ 5x - 2y = 14$$"
   ]
  },
  {
   "cell_type": "markdown",
   "id": "35df7084",
   "metadata": {},
   "source": [
    "<b>Solution</b>\n",
    "\n",
    "Given linear system can be written in the form of $Ax = b$: where, \n",
    "\n",
    "$A = \\begin{pmatrix}\n",
    "2&3\\\\\n",
    "5&-2\\\\\n",
    "\\end{pmatrix}, x = \\begin{pmatrix}\n",
    "x\\\\\n",
    "y\\\\\n",
    "\\end{pmatrix}$, and $b = \\begin{pmatrix}\n",
    "-2\\\\\n",
    "14\\\\\n",
    "\\end{pmatrix}$\n",
    "\n",
    "For a matrix to have unique soltion $det(A) \\ne 0$\n",
    "\n",
    "Here, $det(A) = 2(-2) - 5(3) = -4 -15 = -19$. Therefore, unique solution exists.\n",
    "\n",
    "\n",
    "It can calculated as: $x = A^{-1}b$\n",
    "\n",
    "We know inverse of a matrix $A = \\begin{pmatrix}\n",
    "a&b\\\\\n",
    "c&d\\\\\n",
    "\\end{pmatrix}$ is given by:\n",
    "\n",
    "$A^{-1} = \\frac{1}{det(A)}\\begin{pmatrix}\n",
    "d&-b\\\\\n",
    "-c&a\\\\\n",
    "\\end{pmatrix}$\n",
    "\n",
    "Then, $x = A^{-1}b$<br> $ \\Rightarrow x = \\frac{1}{-19}\\begin{pmatrix}\n",
    "-2&-3\\\\\n",
    "-5&2\\\n",
    "\\end{pmatrix}\\begin{pmatrix}\n",
    "-2\\\\\n",
    "14\\\\\n",
    "\\end{pmatrix} = \\frac{1}{-19}\\begin{pmatrix}\n",
    "-38\\\\\n",
    "38\\\n",
    "\\end{pmatrix}$\n",
    "\n",
    "$\\Rightarrow x = \\begin{pmatrix}\n",
    "2\\\\\n",
    "-2\\\\\n",
    "\\end{pmatrix}$\n",
    "\n",
    "This $ x = \\begin{pmatrix}\n",
    "2\\\\\n",
    "-2\\\\\n",
    "\\end{pmatrix}$ is that unique solution "
   ]
  },
  {
   "cell_type": "markdown",
   "id": "9e5130b0",
   "metadata": {},
   "source": [
    "<b>Question 6</b>\n",
    "\n",
    "Let $T : \\mathbb{R}^2 \\to \\mathbb{R}^2$ be a linear transformation given by $T(x) = Ax$. Determine a formula for $det(A^2)$ in terms of $det(A)$."
   ]
  },
  {
   "cell_type": "markdown",
   "id": "1d6205c4",
   "metadata": {},
   "source": []
  },
  {
   "cell_type": "markdown",
   "id": "e62842c5",
   "metadata": {},
   "source": [
    "--------------------------------------------------------------------------------"
   ]
  },
  {
   "cell_type": "markdown",
   "id": "2cf30d26",
   "metadata": {},
   "source": [
    "<b>Question 7</b>\n",
    "\n",
    "Show that the Wronskian $W(e^{-x}, e^{-3x}) \\ne 0$ <br>"
   ]
  },
  {
   "cell_type": "markdown",
   "id": "1a0e8489",
   "metadata": {},
   "source": [
    "<b>Solution</b><br>\n",
    "\n",
    "Wronskian Determinant(WD) is to test whether solutions to the differential equations are <i>linearly independent</i>\n",
    "\n",
    "If WD is <i>non-zero</i> then solutions are <i>linearly independent</i>. It is calculated as :\n",
    "\n",
    "$W(f, g) = det\\begin{pmatrix}\n",
    "f(x)&g(x)\\\\\n",
    "f'(x)&g'(x)\\\\\n",
    "\\end{pmatrix}$\n",
    "\n",
    "where, $f'(x)$ and $g'(x)$ are derivatives of $f(x)$ and $g(x)$\n",
    "\n",
    "Therefore, \n",
    "\n",
    "$W(e^{-x}, e^{-3x}) = det\\begin{pmatrix}\n",
    "e^{-x}&e^{-3x}\\\\\n",
    "-e^{-x}&-3e^{-3x}\\\\\n",
    "\\end{pmatrix}$\n",
    "\n",
    "\n",
    "$\\Rightarrow W(e^{-x}, e^{-3x}) = e^{-x}(-3e^{-3x}) - (-e^{-x})(e^{-3x})$\n",
    "\n",
    "$\\Rightarrow W(e^{-x}, e^{-3x}) = -3e^{-4x} + e^{-4x} = -2e^{-4x} \\ne 0$\n",
    "\n",
    "Hence, proved"
   ]
  },
  {
   "cell_type": "markdown",
   "id": "d7bb7597",
   "metadata": {},
   "source": [
    "------------------------------------------------------------------------------- "
   ]
  },
  {
   "cell_type": "markdown",
   "id": "6ca3b0a4",
   "metadata": {},
   "source": [
    "<b>Question 8</b>\n",
    "\n",
    "Decide whether the transformation $T : M_{22} \\to \\mathbb{R}$ given by $T(A) = det(A)$ is a linear or not."
   ]
  },
  {
   "cell_type": "markdown",
   "id": "61e8b6f8",
   "metadata": {},
   "source": [
    "<b>Solution</b> <br>\n",
    "\n",
    "We know that, Linear transformation $T(kA) = kT(A)$ We need to check this to decide\n",
    "\n",
    "Lets take a matrix $A = \\begin{pmatrix}\n",
    "a&b\\\\\n",
    "c&d\\\\\n",
    "\\end{pmatrix}\n",
    "$\n",
    "\n",
    "Then, $T\\left(kA\\right) = T\\left(k\\begin{pmatrix}\n",
    "a & b \\\\\n",
    "c & d \\\\\n",
    "\\end{pmatrix}\\right)$\n",
    "\n",
    "$\\qquad = T\\left(\\begin{pmatrix}\n",
    "ka & kb \\\\\n",
    "kc & kd \\\\\n",
    "\\end{pmatrix}\\right)$\n",
    "\n",
    "$\\qquad = T(k^2ad - k^2bc)$\n",
    "\n",
    "$\\qquad = T(k^2(ad - bc))$\n",
    "\n",
    "$\\qquad = Tk^2(A)$\n",
    "\n",
    "We can see now, $T(kA) = k^2T(A)$ and not $kT(A)$. Therefore, not linear"
   ]
  },
  {
   "cell_type": "code",
   "execution_count": null,
   "id": "e58db0c4",
   "metadata": {},
   "outputs": [],
   "source": []
  }
 ],
 "metadata": {
  "kernelspec": {
   "display_name": "Python 3 (ipykernel)",
   "language": "python",
   "name": "python3"
  },
  "language_info": {
   "codemirror_mode": {
    "name": "ipython",
    "version": 3
   },
   "file_extension": ".py",
   "mimetype": "text/x-python",
   "name": "python",
   "nbconvert_exporter": "python",
   "pygments_lexer": "ipython3",
   "version": "3.9.9"
  }
 },
 "nbformat": 4,
 "nbformat_minor": 5
}
