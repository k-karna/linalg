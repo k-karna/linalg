{
 "cells": [
  {
   "cell_type": "markdown",
   "id": "409f0886",
   "metadata": {},
   "source": [
    "<b> Question 1</b>\n",
    "\n",
    "Find the kernel of the following linear transformations:\n",
    "    \n",
    "(a) $T: \\mathbb{R}^2 \\to \\mathbb{R}^2$ given by $T(v) = Av$ where $A = \\begin{pmatrix}\n",
    "1&0\\\\\n",
    "0&1\\\\\n",
    "\\end{pmatrix}$\n",
    "\n",
    "(b) $T: \\mathbb{R}^2 \\to \\mathbb{R}^2$ given by $T(v) = Av$ where $A = \\begin{pmatrix}\n",
    "1&1\\\\\n",
    "1&1\\\\\n",
    "\\end{pmatrix}$\n",
    "    \n",
    "(c) $T: \\mathbb{R}^2 \\to \\mathbb{R}^2$ given by $T(v) = Av$ where $A = \\begin{pmatrix}\n",
    "\\begin{pmatrix}\n",
    "x\\\\\n",
    "y\\\\\n",
    "\\end{pmatrix}\n",
    "\\end{pmatrix} = \\begin{pmatrix}\n",
    "0\\\\\n",
    "0\\\\\n",
    "\\end{pmatrix}$\n",
    "    \n",
    "(d) $T: \\mathbb{R}^3 \\to \\mathbb{R}^3$ given by $T(v) = Av$ where $A = \\begin{pmatrix}\n",
    "\\begin{pmatrix}\n",
    "x\\\\\n",
    "y\\\\\n",
    "z\\\\\n",
    "\\end{pmatrix}\n",
    "\\end{pmatrix} = \\begin{pmatrix}\n",
    "0\\\\\n",
    "0\\\\\n",
    "x\\\\\n",
    "\\end{pmatrix}$\n",
    "    \n",
    "(e) $T: \\mathbb{R}^3 \\to \\mathbb{R}^2$ given by $T(v) = Av$ where $A = \\begin{pmatrix}\n",
    "\\begin{pmatrix}\n",
    "x\\\\\n",
    "y\\\\\n",
    "z\\\\\n",
    "\\end{pmatrix}\n",
    "\\end{pmatrix} = \\begin{pmatrix}\n",
    "y-z\\\\\n",
    "x-z\\\\\n",
    "\\end{pmatrix}$"
   ]
  },
  {
   "cell_type": "markdown",
   "id": "991e09dc",
   "metadata": {},
   "source": [
    "<b> Solution (a) </b>\n",
    "\n",
    "Let $v = \\begin{pmatrix}\n",
    "x\\\\\n",
    "y\\\\\n",
    "\\end{pmatrix}$ and we have $A = \\begin{pmatrix}\n",
    "1&0\\\\\n",
    "0&1\\\\\n",
    "\\end{pmatrix}$\n",
    "\n",
    "Then, we have, <br>\n",
    "\n",
    "$T\\begin{pmatrix}\\begin{pmatrix}\n",
    "x\\\\\n",
    "y\\\\\n",
    "\\end{pmatrix}\\end{pmatrix} = \\begin{pmatrix}\n",
    "1&0\\\\\n",
    "0&1\\\\\n",
    "\\end{pmatrix}\\begin{pmatrix}\n",
    "x\\\\\n",
    "y\\\\\n",
    "\\end{pmatrix} = \\begin{pmatrix}\n",
    "0\\\\\n",
    "0\\\\\n",
    "\\end{pmatrix}$\n",
    "\n",
    "$\\Rightarrow x=0$ and $y = 0$<br>\n",
    "$\\Rightarrow v = \\begin{pmatrix}\n",
    "0\\\\\n",
    "0\\\\\n",
    "\\end{pmatrix}$\n",
    "\n",
    "Therefore, ker$(T) = {O}$\n",
    "\n",
    "\n",
    "<b> Solution (b)</b>\n",
    "\n",
    "Let $v = \\begin{pmatrix}\n",
    "x\\\\\n",
    "y\\\\\n",
    "\\end{pmatrix}$, we have $A = \\begin{pmatrix}\n",
    "1&1\\\\\n",
    "1&1\\\\\n",
    "\\end{pmatrix}$\n",
    "\n",
    "Then, we have, <br>\n",
    "$T\\begin{pmatrix}\\begin{pmatrix}\n",
    "x\\\\\n",
    "y\\\\\n",
    "\\end{pmatrix}\\end{pmatrix} = \\begin{pmatrix}\n",
    "1&1\\\\\n",
    "1&1\\\\\n",
    "\\end{pmatrix}\\begin{pmatrix}\n",
    "x\\\\\n",
    "y\\\\\n",
    "\\end{pmatrix} = \\begin{pmatrix}\n",
    "0\\\\\n",
    "0\\\\\n",
    "\\end{pmatrix}$\n",
    "\n",
    "\n",
    "$\\Rightarrow x + y = 0$<br>\n",
    "$\\Rightarrow x + y = 0$\n",
    "\n",
    "If $y = r$ where $r$ is any real number then $x = -r$.<br>\n",
    "$\\Rightarrow v = \\begin{pmatrix}\n",
    "-r\\\\\n",
    "r\\\\\n",
    "\\end{pmatrix} = r\\begin{pmatrix}\n",
    "-1\\\\\n",
    "1\\\\\n",
    "\\end{pmatrix}$\n",
    "\n",
    "Therefore, ker$(T) = \\left[ r \\begin{pmatrix}\n",
    "-1\\\\\n",
    "1\\\\\n",
    "\\end{pmatrix}, r \\in \\mathbb{R}^n \\right]$\n",
    "\n",
    "<b> Solution (c) </b>\n",
    "\n",
    "Given transformation is a zero transformation. <br>\n",
    "$\\Rightarrow$ ker$(T)$ is all domain of $\\mathbb{R}^2$"
   ]
  },
  {
   "cell_type": "markdown",
   "id": "45b48f3b",
   "metadata": {},
   "source": [
    "---------------------"
   ]
  },
  {
   "cell_type": "markdown",
   "id": "a6026260",
   "metadata": {},
   "source": [
    "<b> Question 2 </b>\n",
    "\n",
    "Let $T: M_{nn} \\to M_{nn}$ be the linear transformation given by the transpose, that is $T(A) = A^T$. Determine Ker$(T)$ and range$(T)$ [$M_{nn}$ is an $n$ by $n$ square matrix]"
   ]
  },
  {
   "cell_type": "markdown",
   "id": "a272962b",
   "metadata": {},
   "source": [
    "<b> Solution </b> \n",
    "\n",
    "We have, <br>\n",
    "\n",
    "$T\\begin{pmatrix}\\begin{pmatrix}\n",
    "a_{11}\\cdots a_{1n}\\\\\n",
    "\\vdots \\ddots \\vdots\\\\\n",
    "a_{n1} \\ddots a_{nn}\\end{pmatrix}\\end{pmatrix} = \\begin{pmatrix}\n",
    "a_{11}\\cdots a_{1n}\\\\\n",
    "\\vdots \\ddots \\vdots\\\\\n",
    "a_{n1} \\ddots a_{nn}\\end{pmatrix}^T$\n",
    "\n",
    "After applying transformation, it is :<br>\n",
    "$\\begin{pmatrix}\n",
    "a_{11}\\cdots a_{n1}\\\\\n",
    "\\vdots \\ddots \\vdots\\\\\n",
    "a_{1n} \\ddots a_{nn}\\end{pmatrix} = \\begin{pmatrix}\n",
    "0\\cdots 0\\\\\n",
    "\\vdots \\ddots \\vdots\\\\\n",
    "0 \\ddots 0\\end{pmatrix} = O$\n",
    "\n",
    "This signifies all the entries of the matrix are zero, $a_{ij} = 0$ making it zero matrix.\n",
    "\n",
    "$\\Rightarrow ker(T) = {O} $\n",
    "\n",
    "Matrix transformed to the vector space $M_{nn}$ under $T$ as:\n",
    "$\\begin{pmatrix}\n",
    "a_{11}\\cdots a_{n1}\\\\\n",
    "\\vdots \\ddots \\vdots\\\\\n",
    "a_{1n} \\ddots a_{nn}\\end{pmatrix}$.\n",
    "\n",
    "Therefore, range$(T) = M_{nn}$"
   ]
  },
  {
   "cell_type": "markdown",
   "id": "a1e32b7a",
   "metadata": {},
   "source": [
    "-----------------------"
   ]
  },
  {
   "cell_type": "markdown",
   "id": "37581401",
   "metadata": {},
   "source": [
    "<b> Question 3 </b> \n",
    "\n",
    "Let $T: P_{2} \\to P_{1}$ be the linear transformation of differentiation $T(p) = p'(x)$. Determine ker$(T)$ and range$(T)$ "
   ]
  },
  {
   "cell_type": "markdown",
   "id": "50352a1c",
   "metadata": {},
   "source": [
    "<b> Solution </b>\n",
    "\n",
    "Lets take $p(x) = ax^2 + bx + c$, \n",
    "\n",
    "Then, with linear transformation, we have, <br>\n",
    "\n",
    "$T(p) = p'(x)$<br>\n",
    "$\\qquad = (ax^2 + bx + c)'$<br>\n",
    "$\\qquad = 2ax + b = 0$\n",
    "\n",
    "solving this, we get a = 0, b = 0,<br>\n",
    "$p'(x) = 0 + 0 + c = c$\n",
    "\n",
    "Thus, $ker(T) = c | c \\in P_0$ where $P_0$ is the vector space of constant polynomials\n",
    "\n",
    "Since, $T(p) = 2ax + b$, therefore, range(T) is the set of linear polynomials, i.e, $range(T) = P_1$"
   ]
  },
  {
   "cell_type": "markdown",
   "id": "47da9959",
   "metadata": {},
   "source": [
    "--------------------------"
   ]
  },
  {
   "cell_type": "markdown",
   "id": "5b2b37be",
   "metadata": {},
   "source": [
    "<b> Question 4 </b>\n",
    "\n",
    "Let $T: V \\to W$ be a linear transformation. Show that if $u \\in ker(T)$ and $v \\in ker(T)$ then for any scalars $k$ and $c$ the vector $(ku + cv) \\in ker(T)$ "
   ]
  },
  {
   "cell_type": "markdown",
   "id": "246e9d2e",
   "metadata": {},
   "source": [
    "<b> Solution </b>\n",
    "\n",
    "Consider the vector $ku + cv$. If apply a linear transformation on it, we have:<br>\n",
    "\n",
    "$T(ku + cv) = T(ku) + T(cv)$<br>\n",
    "$\\quad = kT(u) + kT(v)$<br>\n",
    "\n",
    "Now, as $u \\in ker(T)$ and $v \\in ker(T)$, \n",
    "\n",
    "$T(ku + cv) = kO + cO$<br>\n",
    "$T(ku + cv) = O$\n",
    "\n",
    "Therefore, we can say $(ku + cv) \\in ker(T)$"
   ]
  },
  {
   "cell_type": "markdown",
   "id": "80ff9b73",
   "metadata": {},
   "source": [
    "------------"
   ]
  },
  {
   "cell_type": "markdown",
   "id": "6e7a0639",
   "metadata": {},
   "source": [
    "<b> Question 5 </b>"
   ]
  },
  {
   "cell_type": "markdown",
   "id": "769aa927",
   "metadata": {},
   "source": [
    "Let $T: V \\to W$ be a linear transformation. Prove that if $v \\in ker(T)$ then $-v \\in ker(T)$"
   ]
  },
  {
   "cell_type": "markdown",
   "id": "325d6a1a",
   "metadata": {},
   "source": [
    "<b> Solution </b>\n",
    "\n",
    "Lets say we have, $-v$ vector under transformation.\n",
    "\n",
    "Then, <br>\n",
    "\n",
    "$T(-v) = T(-1v)$<br>\n",
    "$\\quad = -1T(v)$\n",
    "\n",
    "we know that, $v \\in ker(T)$. Therefore, \n",
    "\n",
    "$T(-v) = -1 \\times O = O$\n",
    "\n",
    "Thus, $-v \\in ker(T)$"
   ]
  },
  {
   "cell_type": "markdown",
   "id": "bf740c1c",
   "metadata": {},
   "source": [
    "---------------"
   ]
  },
  {
   "cell_type": "markdown",
   "id": "c91c2407",
   "metadata": {},
   "source": [
    "<b> Question 6 </b> \n",
    "\n",
    "Consider the zero linear transformation $T: V \\to W$ defined by $T(v) = O$ for all $v$ in the domain $V$. Prove that $ker(T) = V$"
   ]
  },
  {
   "cell_type": "markdown",
   "id": "a2e237f7",
   "metadata": {},
   "source": [
    "<b> Solution </b> \n",
    "\n",
    "Lets $u$ is a vector such that $u \\in V$, but $u \\ne ker(T)$\n",
    "\n",
    "We know that, <br>\n",
    "$T(v) = O$ for all $v$ in the domain $V.$\n",
    "\n",
    "$\\Rightarrow T(u) = O$\n",
    "\n",
    "$\\Rightarrow u \\ne ker(T)$\n",
    "\n",
    "this contradicts $u\\ne ker(T)$.\n",
    "\n",
    "thus, there is no such $u \\in V$, where $u \\ne ker(T)$ implying $ker(T) = V$"
   ]
  },
  {
   "cell_type": "markdown",
   "id": "35978bb3",
   "metadata": {},
   "source": [
    "------------------"
   ]
  },
  {
   "cell_type": "markdown",
   "id": "406f8c4e",
   "metadata": {},
   "source": [
    "<b> Question 7 </b> \n",
    "\n",
    "Consider the identity linear transformation $T: V \\to W$ defined by $T(v) = v$. Prove the following results:\n",
    "\n",
    "(a)$ker(T) = {O}\\qquad$ (b)$range(T)= V\\qquad$"
   ]
  },
  {
   "cell_type": "markdown",
   "id": "71813909",
   "metadata": {},
   "source": [
    "<b> Solution (a) </b>  \n",
    "\n",
    "Let $u$ is a vector such that $u \\ne O$ and $u \\in ker(T)$\n",
    "\n",
    "$\\Rightarrow T(u) = O$\n",
    "\n",
    "But, we have identity linear transformation\n",
    "\n",
    "$\\Rightarrow T(u) = u \\ne O$\n",
    "\n",
    "This contradicts our assumption that any $u \\in Ker(T)$ is $u \\ne O$\n",
    "\n",
    "Thus, $ker(T) = \\{O\\}$\n",
    "\n",
    "<b> Solution (b) </b> \n",
    "\n",
    "If $range(T) \\ne V$\n",
    "\n",
    "$\\Rightarrow$ there is a vector $V$ such that:<br>\n",
    "$T(u) \\in W$ and $T(u) \\ne V$\n",
    "\n",
    "But we have linear transformation, therefore, <br>\n",
    "\n",
    "$T(u) = u$ where $u \\in V$\n",
    "\n",
    "This contradicts our supposition, therefore, $range(T) = V$"
   ]
  },
  {
   "cell_type": "markdown",
   "id": "1931e404",
   "metadata": {},
   "source": [
    "-------------------------"
   ]
  },
  {
   "cell_type": "markdown",
   "id": "376fa1cb",
   "metadata": {},
   "source": [
    "<b> Question 8 </b> \n",
    "\n",
    "Let $T: V \\to W$ be a linear transformation and vectors $u$, $v$ be in $V$\n",
    "\n",
    "Prove that if $T(u) = x$ and $T(v) = x$ then $(u - v) \\in ker(T)$ "
   ]
  },
  {
   "cell_type": "markdown",
   "id": "8947aa41",
   "metadata": {},
   "source": [
    "<b> Solution </b>\n",
    "\n",
    "Lets consider the vector $u - v$ under transformation. Since $T$ is a linear transformation, we have :\n",
    "\n",
    "$T(u - v) = T(u + (-v)) = T(u) + T(-v)$<br>\n",
    "$\\quad = T(u) - T(v)$<br>\n",
    "$\\quad = x - x$<br>\n",
    "\n",
    "$\\Rightarrow T(u - v) = O$\n",
    "\n",
    "and, we know that $T(u) = O$, $u \\in ker(T)$\n",
    "\n",
    "$\\Rightarrow u-v \\in ker(T)$"
   ]
  },
  {
   "cell_type": "markdown",
   "id": "8aeeed46",
   "metadata": {},
   "source": [
    "---------------"
   ]
  },
  {
   "cell_type": "markdown",
   "id": "ef022bff",
   "metadata": {},
   "source": [
    "<b> Question 9 </b> \n",
    "\n",
    "Let $T: V \\to W$ be a linear transformation. Prove that if $S_1 = \\{v_1, v_2, \\cdots v_n \\}$ spans the domain $V$ then $S_2 = \\{T(v_1), T(v_2), \\cdots T(v_n)\\}$ spans range $(T)$"
   ]
  },
  {
   "cell_type": "markdown",
   "id": "7a1cf8d7",
   "metadata": {},
   "source": [
    "<b> Solution </b>\n",
    "\n",
    "Let' take T(u) as a random vector in the range of transformation $T$ such that $T(u) \\in range(T)$ and $u$ is in the domain of $V$\n",
    "\n",
    "\n",
    "If $S_1 = \\{v_1, v_2, \\cdots, v_n \\}$ spans $V$ then we can write $u$ in a linear combination like:\n",
    "\n",
    "$u = \\{k_1v_1 + k_2v_2 + \\cdots k_nv_n\\}$\n",
    "\n",
    "Then, <br>\n",
    "\n",
    "$T(u) = T\\{k_1v_1 + k_2v_2 + \\cdots k_nv_n\\}$<br>\n",
    "$\\qquad = k_1T(v_1) + k_2T(v_2) + \\cdots + k_nTv_n$\n",
    "\n",
    "This means, $S_2$ that is equal to $\\{T(v_1), T(v_2), \\cdots T(v_n)\\}$ spans $T(u)$\n",
    "\n",
    "but, we have established $T(u) \\in range(T)$\n",
    "\n",
    "Therefore, $S_2 = \\{T(v_1), T(v_2), \\cdots T(v_n)\\}$ spans $range(T)$"
   ]
  },
  {
   "cell_type": "markdown",
   "id": "47e5d3c9",
   "metadata": {},
   "source": [
    "------------------"
   ]
  },
  {
   "cell_type": "markdown",
   "id": "f97197d3",
   "metadata": {},
   "source": [
    "<b> Question 10 </b> \n",
    "\n",
    "Let $T: V \\to W$ be a linear transformation. Prve that if $B = \\{v_1, v_2, \\cdots v_n \\}$ is a basis for the domain $V$ then $S = c$ is a basis for range$(T)$"
   ]
  },
  {
   "cell_type": "markdown",
   "id": "f30248e2",
   "metadata": {},
   "source": [
    "<b> Solution </b>\n",
    "\n",
    "We know that, if $T$ is a linear transformation, then $T(O) = O$ where $O$ is the zero vector.\n",
    "\n",
    "If we have $B = {v_1, v_2, \\cdots v_n}$, as basis for domain $V$,\n",
    "then these vectors are linearly independent with scalars zero.\n",
    "\n",
    "Therefore, we can zero vector as:\n",
    "\n",
    "$k_1v_1 + k_2v_2 + \\cdots k_nv_n = O$,<br>\n",
    "where all scalars are zero. \n",
    "\n",
    "Now, $T(O) = T(k_1v_1 + k_2v_2 + \\cdots k_nv_n)$<br>\n",
    "$\\quad = k_1T(v_1) + k_2T(v_2) + \\dots k_nT(v_n)$<br>\n",
    "$\\quad = O$\n",
    "\n",
    "\n",
    "Since, all scalars are zero, therefore, the set of vectors <br>\n",
    "\n",
    "$S = \\{T(v_1), T(v_2), \\cdots T(v_n)\\}$ are linearly independent in $range(T)$ and we have established in previous question S span $range(T)$, thus $S$ for a basis for $range(T)$"
   ]
  },
  {
   "cell_type": "markdown",
   "id": "8c5107da",
   "metadata": {},
   "source": [
    "--------------------"
   ]
  },
  {
   "cell_type": "markdown",
   "id": "e3e20970",
   "metadata": {},
   "source": [
    "<b>Question 11 <b>\n",
    "    \n",
    "Let $T: V \\to W$ be a linear transformation. Let $S$ be a subspace of $V$ and $T(S) = \\{ T(s) | s \\in S \\}$. Prove that $T(S)$ is a subspace of range$(T)$"
   ]
  },
  {
   "cell_type": "code",
   "execution_count": null,
   "id": "3bf5601c",
   "metadata": {},
   "outputs": [],
   "source": []
  }
 ],
 "metadata": {
  "kernelspec": {
   "display_name": "Python 3 (ipykernel)",
   "language": "python",
   "name": "python3"
  },
  "language_info": {
   "codemirror_mode": {
    "name": "ipython",
    "version": 3
   },
   "file_extension": ".py",
   "mimetype": "text/x-python",
   "name": "python",
   "nbconvert_exporter": "python",
   "pygments_lexer": "ipython3",
   "version": "3.9.9"
  }
 },
 "nbformat": 4,
 "nbformat_minor": 5
}
