{
 "cells": [
  {
   "cell_type": "markdown",
   "id": "dd168627",
   "metadata": {},
   "source": [
    "<h1><center>Chapter 6: Determinants and the Inverse Matrix</center></h1>\n",
    "<h4><center>Exercies 6.2</center></h4>"
   ]
  },
  {
   "cell_type": "markdown",
   "id": "15bc5f11",
   "metadata": {},
   "source": [
    "<b>Question 1.</b>\n",
    "\n",
    "\n",
    "Calculate the determinants of the following matrices: \n",
    "\n",
    "(a) $A = \\begin{pmatrix}\n",
    "1&3&-1\\\\\n",
    "2&0&5\\\\\n",
    "-6&3&1\\\\\n",
    "\\end{pmatrix}\\quad$(b) $B = \\begin{pmatrix}\n",
    "2&-10&11\\\\\n",
    "5&3&-4\\\\\n",
    "7&9&12\\\\\n",
    "\\end{pmatrix}\\quad$(c) $C = \\begin{pmatrix}\n",
    "-12&9&-5\\\\\n",
    "3&0&1\\\\\n",
    "-7&2&-2\\\\\n",
    "\\end{pmatrix}\\quad$"
   ]
  },
  {
   "cell_type": "markdown",
   "id": "d42228cf",
   "metadata": {},
   "source": [
    "<b>Solution</b>\n",
    "\n",
    "\n",
    "(a)\n",
    "Since middle row has a $0$<br>\n",
    "$det(A) = -2det\\begin{pmatrix}\n",
    "3&-1\\\\\n",
    "3&1\\\\\n",
    "\\end{pmatrix} + 0 det\\begin{pmatrix}\n",
    "1&-1\\\\\n",
    "-6&1\\\\\n",
    "\\end{pmatrix} -5\\begin{pmatrix}\n",
    "1&3\\\\\n",
    "-6&1\\\\\n",
    "\\end{pmatrix}$<br>\n",
    "$\\qquad = -2\\{3(1) - 3(-1)\\} + 0 - 5\\{3(1) -3(-6)\\}$<br>\n",
    "$\\qquad = -12 - 105 = -117$\n",
    "\n",
    "(b)<br>$det(B) = 2det\\begin{pmatrix}\n",
    "3&-4\\\\\n",
    "9&12\\\\\n",
    "\\end{pmatrix} + 10 det\\begin{pmatrix}\n",
    "5&-4\\\\\n",
    "7&12\\\\\n",
    "\\end{pmatrix} +11\\begin{pmatrix}\n",
    "5&3\\\\\n",
    "7&9\\\\\n",
    "\\end{pmatrix}$<br>\n",
    "$\\qquad = 2\\{3(12) - 9(-4)\\} + 10\\{5(12) - 7(-4)\\} + 11\\{5(9) -7(3)\\}$<br>\n",
    "$\\qquad = 144 + 880 + 264 = 1288$\n",
    "\n",
    "(c)<br>\n",
    "$det(C) = -12det\\begin{pmatrix}\n",
    "9&1\\\\\n",
    "2&-2\\\\\n",
    "\\end{pmatrix} -9 det\\begin{pmatrix}\n",
    "3&1\\\\\n",
    "-7&-2\\\\\n",
    "\\end{pmatrix} -5\\begin{pmatrix}\n",
    "3&9\\\\\n",
    "-7&2\\\\\n",
    "\\end{pmatrix}$<br>\n",
    "$\\qquad = -12(-18 -2) -9(-6+7) -5(6 + 63)$<br>\n",
    "$\\qquad = 240 -9 -345 = -114$"
   ]
  },
  {
   "cell_type": "markdown",
   "id": "6cbf0c4d",
   "metadata": {},
   "source": [
    "------------------------------------------------------------------------ "
   ]
  },
  {
   "cell_type": "markdown",
   "id": "90a6d9e0",
   "metadata": {},
   "source": [
    "<b>Question 2</b> \n",
    "\n",
    "Show that $det\\begin{pmatrix}\n",
    "i&j&k\\\\\n",
    "7&3&-2\\\\\n",
    "4&2&7\\\\\n",
    "\\end{pmatrix} = 25i - 57j + 2k$"
   ]
  },
  {
   "cell_type": "markdown",
   "id": "5c8f1a6e",
   "metadata": {},
   "source": [
    "<b> Solution</b>\n",
    "\n",
    "$det\\begin{pmatrix}\n",
    "i&j&k\\\\\n",
    "7&3&-2\\\\\n",
    "4&2&7\\\\\n",
    "\\end{pmatrix} = i\\{det\\begin{pmatrix}\n",
    "3&-2\\\\\n",
    "2&7\\\\\n",
    "\\end{pmatrix}\\} - j\\{det\\begin{pmatrix}\n",
    "7&-2\\\\\n",
    "4&7\\\\\n",
    "\\end{pmatrix}\\} + k\\{det\\begin{pmatrix}\n",
    "7&3\\\\\n",
    "4&2\\\\\n",
    "\\end{pmatrix}\\}$\n",
    "\n",
    "$\\qquad = i(3(7) - 2(-2)) -j(7(7) - 4(-2)) + k(7(2) - 4(3))$<br>\n",
    "$\\qquad = 25i -57j + 2k$<br>\n",
    "\n",
    "hence, proved\n"
   ]
  },
  {
   "cell_type": "markdown",
   "id": "b77456ec",
   "metadata": {},
   "source": [
    "------------------------------------------------------------------------ "
   ]
  },
  {
   "cell_type": "markdown",
   "id": "48029803",
   "metadata": {},
   "source": [
    "<b>Question 3</b> \n",
    "\n",
    "Find the values of $x$ so that $det\\begin{pmatrix}\n",
    "1&0&-3\\\\\n",
    "5&x&-7\\\\\n",
    "3&9&x-1\\\\\n",
    "\\end{pmatrix} = 0$"
   ]
  },
  {
   "cell_type": "markdown",
   "id": "8b6fbf20",
   "metadata": {},
   "source": [
    "<b> Solution</b>\n",
    "\n",
    "$det\\begin{pmatrix}\n",
    "1&0&-3\\\\\n",
    "5&x&-7\\\\\n",
    "3&9&x-1\\\\\n",
    "\\end{pmatrix} = 1\\begin{pmatrix}\n",
    "x&-7\\\\\n",
    "9&x-1\\\\\n",
    "\\end{pmatrix} - 0\\begin{pmatrix}\n",
    "5&-7\\\\\n",
    "3&x-1\\\\\n",
    "\\end{pmatrix} - 3\\begin{pmatrix}\n",
    "5&x\\\\\n",
    "3&9\\\\\n",
    "\\end{pmatrix}$\n",
    "\n",
    "$\\qquad = x(x-1) - (-9) -3(45 -3x)$<br>\n",
    "$\\qquad = x^2 -x + 63 - 135 + 9x$<br>\n",
    "$\\qquad = x^2 + 8x - 72$<br>\n",
    "\n",
    "As we know Det = 0, then by quadratic equation:\n",
    "\n",
    "$x = \\frac{-b\\pm\\sqrt{b^2 - 4ac}}{2a}$<br>\n",
    "$\\qquad = \\frac{-8 \\pm \\sqrt{8^2 - 4(1)(-72)}}{2}$<br>\n",
    "$\\qquad = \\frac{-8 \\pm \\sqrt{352}}{2}$\n",
    "\n",
    "$\\Rightarrow x= -13.38$ or $5.38$"
   ]
  },
  {
   "cell_type": "markdown",
   "id": "45ef12c5",
   "metadata": {},
   "source": [
    "------------------------------------------------------------------------ "
   ]
  },
  {
   "cell_type": "markdown",
   "id": "e6ef854c",
   "metadata": {},
   "source": [
    "<b>Question 4</b>\n",
    "\n",
    "Find the cofactor matrices $C$ and $C^T$ of $A = \\begin{pmatrix}\n",
    "1&0&5\\\\\n",
    "-2&3&7\\\\\n",
    "6&-1&0\\\\\n",
    "\\end{pmatrix}$. Also determine $A^{-1}$"
   ]
  },
  {
   "cell_type": "markdown",
   "id": "b6b9eb9d",
   "metadata": {},
   "source": [
    "<b>Solution</b>\n",
    "\n",
    "\n",
    "<b>We know that, $A^{-1} = \\frac{1}{det(A}adj(A)$, where $adj(A)$ is $C^T$</b>\n",
    "\n",
    "Here, $det(A) = det\\begin{pmatrix}\n",
    "1&0&5\\\\\n",
    "-2&3&7\\\\\n",
    "6&-1&0\\\\\n",
    "\\end{pmatrix} = det\\begin{pmatrix}\n",
    "3&7\\\\\n",
    "-1&0\\\\\n",
    "\\end{pmatrix} +5det\\begin{pmatrix}\n",
    "-2&3\\\\\n",
    "6&-1\\\\\n",
    "\\end{pmatrix} = 3(0) - (-1)7 + 5(-2(-1) - 6(3)) = -73$\n",
    "\n",
    "Calculating Cofactor now<br>\n",
    "Cofactor of $1 = det\\begin{pmatrix}\n",
    "3&7\\\\\n",
    "-1&0\\\\\n",
    "\\end{pmatrix} = 3(0) - (-1)7 = 7$<br>\n",
    "Cofactor of $0 = det\\begin{pmatrix}\n",
    "-2&7\\\\\n",
    "6&0\\\\\n",
    "\\end{pmatrix} = -(-2(0) -6(7)) = 42$<br>\n",
    "Cofactor of $5 = det\\begin{pmatrix}\n",
    "-2&3\\\\\n",
    "6&-1\\\\\n",
    "\\end{pmatrix} = -2(-1) - 6(3) = -16$<br>\n",
    "Cofactor of $-2 = det\\begin{pmatrix}\n",
    "0&5\\\\\n",
    "-1&0\\\\\n",
    "\\end{pmatrix} = -(0(0) - (-1)5) = -5$<br>\n",
    "Cofactor of $3 = det\\begin{pmatrix}\n",
    "1&5\\\\\n",
    "6&0\\\\\n",
    "\\end{pmatrix} = 1(0) - 6(5) = -30$<br>\n",
    "Cofactor of $7 = det\\begin{pmatrix}\n",
    "1&0\\\\\n",
    "6&-1\\\\\n",
    "\\end{pmatrix} = -(1(-1) - 6(0)) = 1$<br>\n",
    "Cofactor of $6 = det\\begin{pmatrix}\n",
    "0&5\\\\\n",
    "3&7\\\\\n",
    "\\end{pmatrix} = 0(7) - 3(5) = -15$<br>\n",
    "Cofator of $-1 = det\\begin{pmatrix}\n",
    "1&5\\\\\n",
    "-2&7\\\\\n",
    "\\end{pmatrix} = -1(1(7) - (-2)5) = -17$<br>\n",
    "Cofactor of $0 = det\\begin{pmatrix}\n",
    "1&0\\\\\n",
    "-2&3\\\\\n",
    "\\end{pmatrix} = (1(3) - (-2)0) = 3$\n",
    "\n",
    "Now, we have cofactor matrix of C as: $\\begin{pmatrix}\n",
    "7&42&-16\\\\\n",
    "-5&-30&1\\\\\n",
    "-15&-17&3\\\\\n",
    "\\end{pmatrix}$\n",
    "\n",
    "Cofactor Matrix, $C^T$ is then $\\begin{pmatrix}\n",
    "7&-5&-15\\\\\n",
    "42&-30&-17\\\\\n",
    "-16&1&3\\\\\n",
    "\\end{pmatrix}$\n",
    "\n",
    "<b>Therefore,$A^{-1} = \\frac{1}{-73}\\begin{pmatrix}\n",
    "7&-5&-15\\\\\n",
    "42&-30&-17\\\\\n",
    "-16&1&3\\\\\n",
    "\\end{pmatrix}$</b>"
   ]
  },
  {
   "cell_type": "markdown",
   "id": "6fe01839",
   "metadata": {},
   "source": [
    "------------------------------------------------------------------------ "
   ]
  },
  {
   "cell_type": "markdown",
   "id": "8224c083",
   "metadata": {},
   "source": [
    "<b>Question 5</b> \n",
    "\n",
    "Determine the inverse of the following matrices: \n",
    "\n",
    "(a)$A = \\begin{pmatrix}\n",
    "9&2\\\\\n",
    "13&3\\\\\n",
    "\\end{pmatrix}\\quad$ (b) $B = \\begin{pmatrix}\n",
    "17&7\\\\\n",
    "12&5\\\\\n",
    "\\end{pmatrix}$\n",
    "\n",
    "(c) $C = \\begin{pmatrix}\n",
    "5&4\\\\\n",
    "3&1\\\\\n",
    "\\end{pmatrix}\\quad$(d) D = $\\begin{pmatrix}\n",
    "3&-5&3\\\\\n",
    "2&1&-7\\\\\n",
    "-10&4&5\\\\\n",
    "\\end{pmatrix}$"
   ]
  },
  {
   "cell_type": "markdown",
   "id": "df9abd16",
   "metadata": {},
   "source": [
    "<b> Solution</b> \n",
    "\n",
    "We know that for a matrix $A = \\begin{pmatrix}\n",
    "a&b\\\\\n",
    "c&d\\\\\n",
    "\\end{pmatrix}$\n",
    "\n",
    "$A^{-1} = \\frac{1}{det(A)}\\begin{pmatrix}\n",
    "d&-b\\\\\n",
    "-c&a\\\\\n",
    "\\end{pmatrix}$ provided $det(A) \\ne 0$\n",
    "\n",
    "<b>Solution (a)</b>\n",
    "\n",
    "$det(A) = 9(3) - 13(2) = 27 - 26 = 1$<br>\n",
    "Then, <br>\n",
    "$A^{-1} = \\frac{1}{1}\\begin{pmatrix}\n",
    "3&-2\\\\\n",
    "-13&9\\\\\n",
    "\\end{pmatrix}$\n",
    "\n",
    "<b>Solution (b)</b><br>\n",
    "\n",
    "$det(B) = 17(5) - 12(7) = 1$<br>\n",
    "Then,<br>\n",
    "$B^{-1} =\\frac{1}{1}\\begin{pmatrix}\n",
    "5&-7\\\\\n",
    "-12&17\\\\\n",
    "\\end{pmatrix}$\n",
    "\n",
    "<b>Solution (c)</b><br>\n",
    "\n",
    "$det(C) = 5(1) - 3(4) = -7$<br>\n",
    "Then, <br>\n",
    "$C^{-1} = \\frac{1}{-7}\\begin{pmatrix}\n",
    "1&-4\\\\\n",
    "-3&5\\\\\n",
    "\\end{pmatrix}$"
   ]
  },
  {
   "cell_type": "markdown",
   "id": "9131afbb",
   "metadata": {},
   "source": [
    "------------------------------------------------------------------------ "
   ]
  },
  {
   "cell_type": "markdown",
   "id": "b36c6eab",
   "metadata": {},
   "source": [
    "<b>Question 6</b> \n",
    "\n",
    "\n",
    "Find the determinants of the following\n",
    "\n",
    "(a) A = $\\begin{pmatrix}\n",
    "2&3&5\\\\\n",
    "0&0&6\\\\\n",
    "1&5&3\\\\\n",
    "\\end{pmatrix}\\quad$ B = $\\begin{pmatrix}\n",
    "6&7&1\\\\\n",
    "1&3&2\\\\\n",
    "0&1&5\\\\\n",
    "\\end{pmatrix}$ \n",
    "\n",
    "(c) C = $\\begin{pmatrix}\n",
    "1&5&1\\\\\n",
    "0&3&7\\\\\n",
    "0&2&9\\\\\n",
    "\\end{pmatrix}\\quad$(d) D = $\\begin{pmatrix}\n",
    "9&5&1\\\\\n",
    "13&0&2\\\\\n",
    "11&0&3\\\\\n",
    "\\end{pmatrix}$"
   ]
  },
  {
   "cell_type": "markdown",
   "id": "58f05ff1",
   "metadata": {},
   "source": [
    "<b>Solution (a)</b> \n",
    "\n",
    "Since, there are two $0$s in middle row<br>\n",
    "$det(A) = -0 + 0 -6det\\begin{pmatrix}\n",
    "2&3\\\\\n",
    "1&5\\\\\n",
    "\\end{pmatrix}$<br>\n",
    "$\\qquad = -0 +0 -6(2(5) - 1(3))$<br>\n",
    "$\\qquad = -42$\n",
    "\n",
    "\n",
    "<b>Solution(b)</b>\n",
    "\n",
    "$det(B) = 0 -1det\\begin{pmatrix}\n",
    "6&1\\\\\n",
    "1&2\\\\\n",
    "\\end{pmatrix} + 5\\begin{pmatrix}\n",
    "6&7\\\\\n",
    "1&3\\\\\n",
    "\\end{pmatrix}$<br>\n",
    "$\\qquad = 0 - 1(6(2) - 1(1)) + 5(6(3) -1(7))$<br>\n",
    "$\\qquad = -11 + 55 = 44$\n",
    "\n",
    "<b>Solution(c)</b>\n",
    "\n",
    "$det(C) = 1det\\begin{pmatrix}\n",
    "3&7\\\\\n",
    "2&9\\\\\n",
    "\\end{pmatrix} - 0 +0$<br>\n",
    "$\\qquad = 1(3(9) -2(7)) -0 +0$<br>\n",
    "$\\qquad = 13$\n",
    "\n",
    "<b>Solution(d)</b>\n",
    "\n",
    "$det(D) = 0 - 5det\\begin{pmatrix}\n",
    "13&2\\\\\n",
    "11&3\\\\\n",
    "\\end{pmatrix} + 0$<br>\n",
    "$\\qquad = -5(13(3) - 11(2))$<br>\n",
    "$\\qquad = -85$\n"
   ]
  },
  {
   "cell_type": "markdown",
   "id": "d2387808",
   "metadata": {},
   "source": [
    "------------------------------------------------------------------------ "
   ]
  },
  {
   "cell_type": "markdown",
   "id": "e2338b4f",
   "metadata": {},
   "source": [
    "<b>Question 7</b> \n",
    "\n",
    "\n",
    "The formula for the area of a triangle with coordinates $(x_1, y_1), (x_2, y_2), (x_3, y_3)$ is given by $\\text{Area} = \\frac{1}{2} \\left| \\text{det} \\begin{pmatrix}\n",
    "x_1 & y_1 & 1 \\\\\n",
    "x_2 & y_2 & 1 \\\\\n",
    "x_3 & y_3 & 1 \\\\\n",
    "\\end{pmatrix} \\right|$. Determine the areas of triangles connecting : <br>\n",
    "\n",
    "(a)$\\,(0,0), (3,2), (7, -4)$ <br>\n",
    "(b)$\\,(-3,2), (2,6), (8, -3)$ <br>\n",
    "(c)$\\,(-2, -1), (1,5), (0.5, 4)$. What do you notice about this result?"
   ]
  },
  {
   "cell_type": "markdown",
   "id": "eaea3d3a",
   "metadata": {},
   "source": [
    "<b>Solution(a)</b>\n",
    "\n",
    "Using Given formula, we have<br>\n",
    "\n",
    "$\\text{Area} = \\frac{1}{2} \\left| \\text{det} \\begin{pmatrix}\n",
    "0 & 0 & 1 \\\\\n",
    "3 & 2 & 1 \\\\\n",
    "7 & -4 & 1 \\\\\n",
    "\\end{pmatrix} \\right|$\n",
    "\n",
    "$\\qquad = \\frac{1}{2} \\left| \\text{det} \\begin{pmatrix}\n",
    "3&2\\\\\n",
    "7&-4\\\\\n",
    "\\end{pmatrix} \\right|$\n",
    "\n",
    "$\\qquad = \\frac{1}{2} \\left| -12 -14 \\right|$<br>\n",
    "$\\qquad = 13$\n",
    "\n",
    "<b>Solution(b)</b>\n",
    "\n",
    "Using Given formula, we have<br>\n",
    "\n",
    "$\\text{Area} = \\frac{1}{2} \\left| \\text{det} \\begin{pmatrix}\n",
    "-3 & 2 & 1 \\\\\n",
    "2 & 6 & 1 \\\\\n",
    "8 & -3 & 1 \\\\\n",
    "\\end{pmatrix} \\right|$\n",
    "\n",
    "$\\text{Area} = \\frac{1}{2} \\left| -3(6(1) - (-3)1) -2(2(1) - 8(1)) +1(2(-3) - 8(6)) \\right|$<br>\n",
    "$\\qquad  = \\frac{1}{2} \\left| -3(9) -2(-6) +1(54)\\right|$<br>\n",
    "\n",
    "$\\qquad  = \\frac{1}{2} \\left| -27 + 12 + 54 \\right|$<br>\n",
    "\n",
    "$\\qquad  = 34.5 $<br>\n",
    "\n",
    "\n",
    "<b>Solution(c)</b>\n",
    "\n",
    "Using Given formula, we have<br>\n",
    "\n",
    "$\\text{Area} = \\frac{1}{2} \\left| \\text{det} \\begin{pmatrix}\n",
    "-2 & -1 & 1 \\\\\n",
    "1 & 5 & 1 \\\\\n",
    "0.5 & 4 & 1 \\\\\n",
    "\\end{pmatrix} \\right|$\n",
    "\n",
    "$\\text{Area} = \\frac{1}{2} \\left| -2(5(1) - (4)1) +1(1(1) - 0.5(1)) -1(4 -2.5) \\right|$<br>\n",
    "\n",
    "$\\qquad = \\frac{1}{2} \\left| -2 + 0.5 + 1.5 \\right|$\n",
    "\n",
    "$\\qquad = 0$<br>\n",
    "This isn't a triangle\n"
   ]
  },
  {
   "cell_type": "markdown",
   "id": "e1de224e",
   "metadata": {},
   "source": [
    "------------------------------------------------------------------------ "
   ]
  },
  {
   "cell_type": "markdown",
   "id": "ba0edae1",
   "metadata": {},
   "source": [
    "<b>Question 8</b>\n",
    "\n",
    "Let $P_1 = (x_1, y_1)$ and $P_2 = (x_2, y_2)$ be two points in plane. The equation of the line going through these points is given by \n",
    "\n",
    "$$\\text{det}\\begin{pmatrix}\n",
    "x&y&1\\\\\n",
    "x_1&y_1&1\\\\\n",
    "x_2&y_2&1\\\\\n",
    "\\end{pmatrix} = 0$$\n",
    "\n",
    "Find the eqation of the line through the points: \n",
    "\n",
    "(a)$(1,2)\\text{and}(5,6)$<br>\n",
    "(b)$(-3,7)\\text{and}(10,10)$<br>\n",
    "(c)$(-3,7)\\text{and}(9,-21)$"
   ]
  },
  {
   "cell_type": "markdown",
   "id": "356fa12f",
   "metadata": {},
   "source": [
    "<b> Solution(a)</b> \n",
    "\n",
    "Using formula provided for the line, we have:\n",
    "\n",
    "$det\\begin{pmatrix}\n",
    "x&y&1\\\\\n",
    "1&2&1\\\\\n",
    "5&6&1\\\\\n",
    "\\end{pmatrix} = 0$\n",
    "\n",
    "$\\qquad\\Rightarrow x(2(1) - 6(1)) -y(1(1) -5(1)) + 1(6 - 10) = 0$<br>\n",
    "\n",
    "$\\qquad\\Rightarrow x(-4) + 4y - 4 = 0$<br> \n",
    "\n",
    "\n",
    "$\\qquad\\Rightarrow -x + y = 1$ or line equation is :$y = x + 1$\n",
    "\n",
    "\n",
    "<b> Solution(b)</b> \n",
    "\n",
    "Using formula provided for the line, we have:\n",
    "\n",
    "$det\\begin{pmatrix}\n",
    "x&y&1\\\\\n",
    "-3&7&1\\\\\n",
    "10&10&1\\\\\n",
    "\\end{pmatrix} = 0$\n",
    "\n",
    "$\\qquad \\Rightarrow x(7 - 10) -y(-3 -10) + 1(-30 -70) = 0$<br>\n",
    "$\\qquad \\Rightarrow -3x - 13y -100 = 0$<br>\n",
    "$\\qquad \\Rightarrow 13y = 13x + 100$<br>\n",
    "$\\qquad \\Rightarrow$ line equation is : $\\quad y = \\frac{1}{13}(3x + 100)$\n",
    "\n",
    "\n",
    "<b> Solution(c)</b> \n",
    "\n",
    "Using formula provided for the line, we have:\n",
    "\n",
    "$det\\begin{pmatrix}\n",
    "x&y&1\\\\\n",
    "-3&7&1\\\\\n",
    "9&-21&1\\\\\n",
    "\\end{pmatrix} = 0$\n",
    "$\\qquad \\Rightarrow x(7(1) - (-21)1) -y(-3(1) - 9(1)) + 1(-3(-21) -9(7))= 0 $<br>\n",
    "\n",
    "$\\qquad \\Rightarrow x(28) -y(-12) +1(63 - 63) = 0$\n",
    "\n",
    "$\\qquad \\Rightarrow 28x + 12y = 0$"
   ]
  },
  {
   "cell_type": "markdown",
   "id": "f49c617e",
   "metadata": {},
   "source": [
    "------------------------------------------------------------------------ "
   ]
  },
  {
   "cell_type": "markdown",
   "id": "a1cc1df4",
   "metadata": {},
   "source": [
    "<b>Question 9</b> \n",
    "\n",
    "\n",
    "In a 6 by 6 matrix $A$, decide the place sign of the following entries: \n",
    "\n",
    "$$a_{31}, a_{56}, a_{62}, a_{65} \\text{and} a_{71}$$"
   ]
  },
  {
   "cell_type": "markdown",
   "id": "9ae2ed18",
   "metadata": {},
   "source": [
    "<b>Solution</b>\n",
    "\n",
    "The place sign of $a_{31} = (-1)^{3+1} = (-1)^4 = 1$ \n",
    "\n",
    "The place sign of $a_{56} = (-1)^{5+6} = (-1)^11 = -1$\n",
    "\n",
    "The place sign of $a_{62} = (-1)^{6+2} = (-1)^8 = 1$\n",
    "\n",
    "The place sign of $a_{65} = (-1)^{6+5} = (-1)^11 = -1$\n",
    "\n",
    "$a_{71}$ does not exist"
   ]
  },
  {
   "cell_type": "markdown",
   "id": "c8e45547",
   "metadata": {},
   "source": [
    "------------------------------------------------------------------------ "
   ]
  },
  {
   "cell_type": "markdown",
   "id": "e229edab",
   "metadata": {},
   "source": [
    "<b>Question 10</b> \n",
    "\n",
    "\n",
    "Show that in an n by n matrix the place sign of $a_{mn}$ is equal to that of $a_{nm}$"
   ]
  },
  {
   "cell_type": "markdown",
   "id": "86d0d14a",
   "metadata": {},
   "source": [
    "<b>Solution</b> \n",
    "The place sign of $a_{nm} = (-1)^{n+m} = (-1)^{m+n} = a_{mn}$ "
   ]
  },
  {
   "cell_type": "markdown",
   "id": "c0cf7ad4",
   "metadata": {},
   "source": [
    "------------------------------------------------------------------------ "
   ]
  },
  {
   "cell_type": "markdown",
   "id": "7ba7e8b1",
   "metadata": {},
   "source": [
    "<b>Question 11</b> \n",
    "\n",
    "\n",
    "Find $det(A)$ where $A = \\begin{pmatrix}\n",
    "a&b&c&d\\\\\n",
    "0&0&0&0\\\\\n",
    "e&f&g&h\\\\\n",
    "i&j&k&l\\\\\n",
    "\\end{pmatrix}$"
   ]
  },
  {
   "cell_type": "markdown",
   "id": "e556ce18",
   "metadata": {},
   "source": [
    "<b>Solution</b> We would expand along second row, for having most $0$, but all row entries are $0$, implying all multiples of $0$ will be $0$s.<br>\n",
    "Therefore, $det(A) = 0$"
   ]
  },
  {
   "cell_type": "markdown",
   "id": "b66a02fa",
   "metadata": {},
   "source": [
    "------------------------------------------------------------------------ "
   ]
  },
  {
   "cell_type": "markdown",
   "id": "77ce86a0",
   "metadata": {},
   "source": [
    "<b>Question 12</b> \n",
    "\n",
    "\n",
    "Find the values of $k$ for which the following matrix is invertible \n",
    "$$A = \\begin{pmatrix}\n",
    "k&1&2\\\\\n",
    "0&k&2\\\\\n",
    "5&-5&k\\\\\n",
    "\\end{pmatrix}$$"
   ]
  },
  {
   "cell_type": "markdown",
   "id": "77e85334",
   "metadata": {},
   "source": [
    "<b>Solution</b>\n",
    "\n",
    "Here, Det$(A) = 0 + kdet\\begin{pmatrix}\n",
    "k&2\\\\\n",
    "5&k\\\\\n",
    "\\end{pmatrix} -2 det\\begin{pmatrix}\n",
    "k&1\\\\\n",
    "5&-5\\\\\n",
    "\\end{pmatrix}$<br>\n",
    "$\\qquad = k(k^2 - 10) -2(5k - 5)$<br>\n",
    "$\\qquad = k^3 + 10$<br>\n",
    "\n",
    "Matrix is invertibe when $det(A) \\ne 0$, therefore equating to $0$ so all other values can be solution other than $k^3 = -10$ is the solution"
   ]
  },
  {
   "cell_type": "markdown",
   "id": "84e5c66d",
   "metadata": {},
   "source": [
    "------------------------------------------------------------------------ "
   ]
  },
  {
   "cell_type": "markdown",
   "id": "92e2b0c9",
   "metadata": {},
   "source": [
    "<b>Question 13</b> \n",
    "\n",
    "\n",
    "Show that the 3 by 3 Vandermonde determinant is written as: \n",
    "\n",
    "$$ \\text{det}\\begin{pmatrix}\n",
    "1&1&1\\\\\n",
    "x&y&z\\\\\n",
    "x^2&y^2&z^2\\\\\n",
    "\\end{pmatrix}= (x - y)(y -z)(z- x)$$"
   ]
  },
  {
   "cell_type": "markdown",
   "id": "54074696",
   "metadata": {},
   "source": [
    "<b> Solution</b> \n",
    "\n",
    "Here,\n",
    "\n",
    "$\\text{det}\\begin{pmatrix}\n",
    "1&1&1\\\\\n",
    "x&y&z\\\\\n",
    "x^2&y^2&z^2\\\\\n",
    "\\end{pmatrix}$<br>\n",
    "\n",
    "$= det\\begin{pmatrix}\n",
    "y&z\\\\\n",
    "y^{2}&z^{2}\\\\\n",
    "\\end{pmatrix} - det\\begin{pmatrix}\n",
    "x&z\\\\\n",
    "x^{2}&z^{2}\\\\\n",
    "\\end{pmatrix} + det\\begin{pmatrix}\n",
    "x&y\\\\\n",
    "x^{2}&y^{2}\\\\\n",
    "\\end{pmatrix}$\n",
    "\n",
    "$\\quad = (yz^2 - y^{2}) - (xz^{2} - x^{2}z) + (xy^{2} - x^{2}y)$<br>\n",
    "\n",
    "$\\quad = yz^{2} - y^{2}z - xz^{2} + x^{2}z + xy^{2} - x^{2}y$\n",
    "\n",
    "Similarly, <br>\n",
    "\n",
    "$(x-y)(y-z)(z-x)$\n",
    "\n",
    "$= (xy - xz - y^{2} + zy)(z -x)$<br>\n",
    "$= xyz - xz^{2} -y^{2}z +z^{2}y -x^{2}y + x^{2}z +y^{2}x - xyz$<br>\n",
    "\n",
    "\n",
    "$= yz^{2} - y^{2}z - xz^{2} + x^{2}z + xy^{2} - x^{2}y$\n",
    "\n",
    "Hence, proved"
   ]
  },
  {
   "cell_type": "markdown",
   "id": "f72c7488",
   "metadata": {},
   "source": [
    "------------------------------------------------------------------------ "
   ]
  },
  {
   "cell_type": "markdown",
   "id": "47214a4e",
   "metadata": {},
   "source": [
    "<b>Question 14</b> \n",
    "\n",
    "\n",
    "The volume of a parallelepiped (three-dimensional parallelogram) which is spanned by the vectors $u$, $v$, and $w$ is given by $\\quad|\\text{det}(u\\quad v\\quad w)|$ \n",
    "\n",
    "Find the volume of the parallelepiped generated by the vectors \n",
    "$$u = \\begin{pmatrix}\n",
    "1&2&1\\\\\n",
    "\\end{pmatrix}^T\\quad, v = \\begin{pmatrix}\n",
    "2&3&5\\\\\n",
    "\\end{pmatrix}^T, \\text{and} \\,w =\\begin{pmatrix}\n",
    "7&10&-1\\\\\n",
    "\\end{pmatrix}^T$$"
   ]
  },
  {
   "cell_type": "markdown",
   "id": "5a3f14e0",
   "metadata": {},
   "source": [
    "<b>Solution</b>\n",
    "\n",
    "$\\quad|\\text{det}(u\\quad v\\quad w)| = \\left| det\\begin{pmatrix}\n",
    "1&2&7\\\\\n",
    "2&3&10\\\\\n",
    "1&5&-1\\\\\n",
    "\\end{pmatrix} \\right|$\n",
    "\n",
    "$\\qquad = \\left| 1(3(-1) -5(10)) -2(2(-1) -1(10)) + 7(2(5) - 1(3))\\right|$<br>\n",
    "\n",
    "$\\qquad = \\left| 1(-53) -2(-2-10) +7(10-3)\\right|$\n",
    "$\\qquad = 20$"
   ]
  },
  {
   "cell_type": "markdown",
   "id": "1f04e19a",
   "metadata": {},
   "source": [
    "------------------------------------------------------------------------ "
   ]
  },
  {
   "cell_type": "markdown",
   "id": "1d4426e1",
   "metadata": {},
   "source": [
    "<b>Question 15</b> \n",
    "\n",
    "\n",
    "Show that the determinant of the following rotational matrix $\\mathbb{R}$ is 1. \n",
    "\n",
    "$$R = \\begin{pmatrix}\n",
    "cos(\\theta)&sin(\\theta)&0\\\\\n",
    "-sin(\\theta)&cos(\\theta)&0\\\\\n",
    "0&0&1\\\\\n",
    "\\end{pmatrix}$$\n",
    "\n",
    "What does determinant equal to 1 mean in this context?"
   ]
  },
  {
   "cell_type": "markdown",
   "id": "bcfa1cd0",
   "metadata": {},
   "source": [
    "<b>Solution</b> Here, we have two $0$s in bottom row, so getting determinant is as:\n",
    "\n",
    "$det(R) = det\\begin{pmatrix}\n",
    "cos(\\theta)&sin(\\theta)&0\\\\\n",
    "-sin(\\theta)&cos(\\theta)&0\\\\\n",
    "0&0&1\\\\\n",
    "\\end{pmatrix}$\n",
    "\n",
    "\n",
    "$\\qquad = 1(cos\\theta)cos(\\theta) - (-sin\\theta)sin\\theta$\n",
    "\n",
    "$\\qquad = cos^{2}\\theta + sin^{2}\\theta = 1$"
   ]
  },
  {
   "cell_type": "markdown",
   "id": "3ac9c3f1",
   "metadata": {},
   "source": [
    "------------------------------------------------------------------------ "
   ]
  },
  {
   "cell_type": "markdown",
   "id": "be775d1d",
   "metadata": {},
   "source": [
    "<b>Question 16</b>\n",
    "\n",
    "In multivariable calculus we have to transform from rectangular coordinates $(x,y)$ to polar coordinates $(r,\\theta)$. The Jacobian matrix $J$ given below is used for such a transformation. Show that $det(J) = r$: \n",
    "\n",
    "$$ J = \\begin{pmatrix}\n",
    "cos(\\theta)&-rsin(\\theta)\\\\\n",
    "sin(\\theta)&rcos(\\theta)\\\\\n",
    "\\end{pmatrix}\n",
    "$$"
   ]
  },
  {
   "cell_type": "markdown",
   "id": "380bc302",
   "metadata": {},
   "source": [
    "<b>Solution</b> <br>\n",
    "\n",
    "$ det(J) = det\\begin{pmatrix}\n",
    "cos(\\theta)&-rsin(\\theta)\\\\\n",
    "sin(\\theta)&rcos(\\theta)\\\\\n",
    "\\end{pmatrix}\n",
    "$\n",
    "\n",
    "$rcos^{2}(\\theta) +rsin^{2}(\\theta)$<br>\n",
    "$=r(cos^{2}(\\theta) + sin^{2}(\\theta))$<br>\n",
    "$=r(1)$<br>\n",
    "$ = r$\n"
   ]
  },
  {
   "cell_type": "markdown",
   "id": "ddd727e4",
   "metadata": {},
   "source": [
    "<b>Question 17</b>\n",
    "\n",
    "The Jacobian determinant $J$ is defined as<br>\n",
    "\n",
    "$$J = \\left| det\\begin{pmatrix}\n",
    "cos\\theta sin\\phi&-\\rho sin\\theta sin\\phi& \\rho cos\\theta cos\\phi\\\\\n",
    "sin\\theta sin\\phi&\\rho cos\\theta sin\\phi & \\rho sin\\theta cos\\phi\\\\\n",
    "cos\\phi &0 &-\\rho sin\\phi\\\\\n",
    "\\end{pmatrix} \\right|$$"
   ]
  },
  {
   "cell_type": "markdown",
   "id": "f11f772d",
   "metadata": {},
   "source": [
    "<b>Solution</b><br>\n",
    "As the bottom row has $0$, we will solve it along the row:\n",
    "\n",
    "Therefore, \n",
    "\n",
    "$J = \\left| cos\\phi \\left(\\text{det}\\begin{pmatrix}\n",
    "-\\rho sin\\theta sin\\phi& \\rho cos\\theta cos\\phi\\\\\n",
    "\\rho cos\\theta sin\\phi & \\rho sin\\theta cos\\phi\\\\\n",
    "\\end{pmatrix} \\right) + -\\rho sin\\phi \\left(\\text{det} \\begin{pmatrix}\n",
    "cos\\theta sin\\phi & -\\rho sin\\theta sin\\phi\\\\\n",
    "sin\\theta sin\\phi & \\rho cos\\theta sin\\phi\\\\\n",
    "\\end{pmatrix} \\right)\\right|$\n",
    "\n",
    "$ = \\left|cos\\phi (-\\rho^{2}sin^{2}\\theta sin\\phi cos\\phi -\\rho^{2} cos^{2}\\theta cos\\phi sin\\phi) - \\rho sin\\theta(\\rho cos^{2}\\theta sin^{2}\\phi +\\rho sin^{2}\\theta sin^{2}\\phi)\\right|$\n",
    "\n",
    "$= \\left|-\\rho^{2}\\left( cos^{2}\\phi sin\\phi (sin^{2}\\theta + cos^{2}\\theta) + sin\\phi sin^{2}\\phi(cos^{2}\\theta + sin^{2}\\theta))\\right)\\right|$\n",
    "\n",
    "$= \\left|-\\rho^{2}\\left( cos^{2}\\phi sin\\phi + sin\\phi sin^{2}\\phi\\right)\\right|$\n",
    "\n",
    "$ = \\left|-\\rho^{2}sin\\phi (cos^{2}\\theta + sin^{2}\\theta)\\right|$\n",
    "\n",
    "$ = \\left|-\\rho^{2}sin\\phi \\right|$\n",
    "\n",
    "$\\Rightarrow J = \\rho^{2}sin\\phi$ Hence, proved!"
   ]
  },
  {
   "cell_type": "code",
   "execution_count": null,
   "id": "d309ed0d",
   "metadata": {},
   "outputs": [],
   "source": []
  }
 ],
 "metadata": {
  "kernelspec": {
   "display_name": "Python 3 (ipykernel)",
   "language": "python",
   "name": "python3"
  },
  "language_info": {
   "codemirror_mode": {
    "name": "ipython",
    "version": 3
   },
   "file_extension": ".py",
   "mimetype": "text/x-python",
   "name": "python",
   "nbconvert_exporter": "python",
   "pygments_lexer": "ipython3",
   "version": "3.9.9"
  }
 },
 "nbformat": 4,
 "nbformat_minor": 5
}
